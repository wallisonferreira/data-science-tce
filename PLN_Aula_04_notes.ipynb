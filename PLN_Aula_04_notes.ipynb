{
  "nbformat": 4,
  "nbformat_minor": 0,
  "metadata": {
    "colab": {
      "provenance": [],
      "include_colab_link": true
    },
    "kernelspec": {
      "name": "python3",
      "display_name": "Python 3"
    },
    "language_info": {
      "name": "python"
    }
  },
  "cells": [
    {
      "cell_type": "markdown",
      "metadata": {
        "id": "view-in-github",
        "colab_type": "text"
      },
      "source": [
        "<a href=\"https://colab.research.google.com/github/wallisonferreira/data-science-tce/blob/main/PLN_Aula_04_notes.ipynb\" target=\"_parent\"><img src=\"https://colab.research.google.com/assets/colab-badge.svg\" alt=\"Open In Colab\"/></a>"
      ]
    },
    {
      "cell_type": "markdown",
      "source": [
        "#NLP - Aula 04 - Extração de características - parte 2"
      ],
      "metadata": {
        "id": "dXON_OfKLUzn"
      }
    },
    {
      "cell_type": "markdown",
      "source": [
        "##1 - Word2Vec"
      ],
      "metadata": {
        "id": "fpkPG_n055AY"
      }
    },
    {
      "cell_type": "code",
      "source": [
        "from gensim.models import Word2Vec\n",
        "import nltk\n",
        "import re\n",
        "from nltk.corpus import stopwords\n",
        "import numpy as np"
      ],
      "metadata": {
        "id": "EQOb5r9wDxu5"
      },
      "execution_count": 1,
      "outputs": []
    },
    {
      "cell_type": "code",
      "source": [
        "rev1 = 'Game of Thrones eh uma serie maravilhosa!'\n",
        "rev2 = 'Game of Thrones eh fora de serie!'\n",
        "rev3 = 'Game of Thrones eh muito boa.'\n",
        "\n",
        "#Removendo pontuação, aplicando lowercase e tokenizando os textos\n",
        "rev1_l = re.sub(r\"[^a-zA-Z0-9]\", \" \", rev1.lower()).split()\n",
        "rev2_l = re.sub(r\"[^a-zA-Z0-9]\", \" \", rev2.lower()).split()\n",
        "rev3_l = re.sub(r\"[^a-zA-Z0-9]\", \" \", rev3.lower()).split()\n"
      ],
      "metadata": {
        "id": "XKswm2wA8_Rl"
      },
      "execution_count": 2,
      "outputs": []
    },
    {
      "cell_type": "code",
      "source": [
        "rev1_l"
      ],
      "metadata": {
        "colab": {
          "base_uri": "https://localhost:8080/"
        },
        "id": "Wq_jr2UzSg0X",
        "outputId": "297f6056-7252-455e-9164-d4e487a1514c"
      },
      "execution_count": 22,
      "outputs": [
        {
          "output_type": "execute_result",
          "data": {
            "text/plain": [
              "['game', 'of', 'thrones', 'eh', 'uma', 'serie', 'maravilhosa']"
            ]
          },
          "metadata": {},
          "execution_count": 22
        }
      ]
    },
    {
      "cell_type": "code",
      "source": [
        "#criando os vetores\n",
        "model = Word2Vec(\n",
        "    [rev1_l,rev2_l,rev3_l],\n",
        "    vector_size=300,\n",
        "    window=4,\n",
        "    min_count=1,\n",
        "    workers=1,\n",
        "    epochs=10, sg=0)\n",
        "\n",
        "# verificando a palavra mais similar\n",
        "similar = model.wv.most_similar('thrones')\n",
        "print (similar)"
      ],
      "metadata": {
        "colab": {
          "base_uri": "https://localhost:8080/"
        },
        "id": "gYycYY5oAXON",
        "outputId": "1bfb250a-3e95-4def-8973-db1f24666981"
      },
      "execution_count": 3,
      "outputs": [
        {
          "output_type": "stream",
          "name": "stdout",
          "text": [
            "[('serie', 0.040829457342624664), ('fora', 0.028210792690515518), ('of', 0.026086430996656418), ('boa', 0.008777442388236523), ('eh', -0.011810136027634144), ('uma', -0.029347894713282585), ('de', -0.042902570217847824), ('muito', -0.07285767793655396), ('game', -0.08272312581539154), ('maravilhosa', -0.09019038826227188)]\n"
          ]
        }
      ]
    },
    {
      "cell_type": "code",
      "source": [
        "similar = model.wv.most_similar('boa')\n",
        "print (similar)"
      ],
      "metadata": {
        "colab": {
          "base_uri": "https://localhost:8080/"
        },
        "id": "iBC_jMjRHF5A",
        "outputId": "d7fe3702-f38c-4504-b354-6914a7f9c205"
      },
      "execution_count": 4,
      "outputs": [
        {
          "output_type": "stream",
          "name": "stdout",
          "text": [
            "[('serie', 0.06862646341323853), ('maravilhosa', 0.05263852700591087), ('eh', 0.026309622451663017), ('game', 0.018675638362765312), ('of', 0.01306209433823824), ('fora', 0.012071158736944199), ('thrones', 0.008777419105172157), ('muito', -0.037689659744501114), ('uma', -0.04311365261673927), ('de', -0.053565237671136856)]\n"
          ]
        }
      ]
    },
    {
      "cell_type": "markdown",
      "source": [
        "##Atividade"
      ],
      "metadata": {
        "id": "Lg1InyPY46ez"
      }
    },
    {
      "cell_type": "code",
      "source": [
        "texto1 = '''E agora, José?\n",
        "A festa acabou,\n",
        "a luz apagou,\n",
        "o povo sumiu,\n",
        "a noite esfriou,\n",
        "e agora, José?\n",
        "e agora, você?\n",
        "você que é sem nome,\n",
        "que zomba dos outros,\n",
        "você que faz versos,\n",
        "que ama, protesta?\n",
        "e agora, José?'''\n",
        "\n",
        "texto2 = '''Está sem mulher,\n",
        "está sem discurso,\n",
        "está sem carinho,\n",
        "já não pode beber,\n",
        "já não pode fumar,\n",
        "cuspir já não pode,\n",
        "a noite esfriou,\n",
        "o dia não veio,\n",
        "o bonde não veio,\n",
        "o riso não veio,\n",
        "não veio a utopia\n",
        "e tudo acabou\n",
        "e tudo fugiu\n",
        "e tudo mofou,\n",
        "e agora, José?'''\n",
        "\n",
        "texto3= '''E agora, José?\n",
        "sua doce palavra,\n",
        "seu instante de febre,\n",
        "sua gula e jejum,\n",
        "sua biblioteca,\n",
        "sua lavra de ouro,\n",
        "seu terno de vidro,\n",
        "sua incoerência,\n",
        "seu ódio, – e agora?'''\n",
        "\n",
        "texto4='''Com a chave na mão\n",
        "quer abrir a porta,\n",
        "não existe porta;\n",
        "quer morrer no mar,\n",
        "mas o mar secou;\n",
        "quer ir para Minas,\n",
        "Minas não há mais.\n",
        "José, e agora?'''\n",
        "\n",
        "texto5= '''Se você gritasse,\n",
        "se você gemesse,\n",
        "se você tocasse,\n",
        "a valsa vienense,\n",
        "se você dormisse,\n",
        "se você cansasse,\n",
        "se você morresse...\n",
        "Mas você não morre,\n",
        "você é duro, José!'''\n",
        "\n",
        "texto6= '''Sozinho no escuro\n",
        "qual bicho-do-mato,\n",
        "sem teogonia,\n",
        "sem parede nua\n",
        "para se encostar,\n",
        "sem cavalo preto\n",
        "que fuja a galope,\n",
        "você marcha, José!\n",
        "José, para onde?'''"
      ],
      "metadata": {
        "id": "s653DNRF8vtH"
      },
      "execution_count": 6,
      "outputs": []
    },
    {
      "cell_type": "markdown",
      "source": [
        "### Atividade Word2Vec"
      ],
      "metadata": {
        "id": "S-y0Q73JRAQ-"
      }
    },
    {
      "cell_type": "code",
      "source": [
        "docs = [texto1, texto2, texto3, texto4, texto5, texto6]\n",
        "docs"
      ],
      "metadata": {
        "colab": {
          "base_uri": "https://localhost:8080/"
        },
        "id": "j4gagqd4QcQi",
        "outputId": "57ae4fcc-476d-4b83-d0ef-fe700f4cd013"
      },
      "execution_count": 8,
      "outputs": [
        {
          "output_type": "execute_result",
          "data": {
            "text/plain": [
              "['E agora, José?\\nA festa acabou,\\na luz apagou,\\no povo sumiu,\\na noite esfriou,\\ne agora, José?\\ne agora, você?\\nvocê que é sem nome,\\nque zomba dos outros,\\nvocê que faz versos,\\nque ama, protesta?\\ne agora, José?',\n",
              " 'Está sem mulher,\\nestá sem discurso,\\nestá sem carinho,\\njá não pode beber,\\njá não pode fumar,\\ncuspir já não pode,\\na noite esfriou,\\no dia não veio,\\no bonde não veio,\\no riso não veio,\\nnão veio a utopia\\ne tudo acabou\\ne tudo fugiu\\ne tudo mofou,\\ne agora, José?',\n",
              " 'E agora, José?\\nsua doce palavra,\\nseu instante de febre,\\nsua gula e jejum,\\nsua biblioteca,\\nsua lavra de ouro,\\nseu terno de vidro,\\nsua incoerência,\\nseu ódio, – e agora?',\n",
              " 'Com a chave na mão\\nquer abrir a porta,\\nnão existe porta;\\nquer morrer no mar,\\nmas o mar secou;\\nquer ir para Minas,\\nMinas não há mais.\\nJosé, e agora?',\n",
              " 'Se você gritasse,\\nse você gemesse,\\nse você tocasse,\\na valsa vienense,\\nse você dormisse,\\nse você cansasse,\\nse você morresse...\\nMas você não morre,\\nvocê é duro, José!',\n",
              " 'Sozinho no escuro\\nqual bicho-do-mato,\\nsem teogonia,\\nsem parede nua\\npara se encostar,\\nsem cavalo preto\\nque fuja a galope,\\nvocê marcha, José!\\nJosé, para onde?']"
            ]
          },
          "metadata": {},
          "execution_count": 8
        }
      ]
    },
    {
      "cell_type": "code",
      "source": [
        "import pandas as pd"
      ],
      "metadata": {
        "id": "YfPDxTaZQw3_"
      },
      "execution_count": 11,
      "outputs": []
    },
    {
      "cell_type": "code",
      "source": [
        "df = pd.DataFrame(docs, columns=['texto'])\n",
        "df['lower'] = df['texto'].str.lower()\n",
        "df['remove_pontuacao'] = df.apply(lambda row: re.sub(r\"[^a-zA-Z0-9]\", \" \", row['lower']), axis=1)\n",
        "df['split'] = df.apply(lambda row: row['remove_pontuacao'].split(), axis=1)\n",
        "df"
      ],
      "metadata": {
        "colab": {
          "base_uri": "https://localhost:8080/",
          "height": 237
        },
        "id": "thivfYK6Qd7B",
        "outputId": "2e1191e1-6155-43ca-beba-1b7ff00f75cb"
      },
      "execution_count": 13,
      "outputs": [
        {
          "output_type": "execute_result",
          "data": {
            "text/plain": [
              "                                               texto  \\\n",
              "0  E agora, José?\\nA festa acabou,\\na luz apagou,...   \n",
              "1  Está sem mulher,\\nestá sem discurso,\\nestá sem...   \n",
              "2  E agora, José?\\nsua doce palavra,\\nseu instant...   \n",
              "3  Com a chave na mão\\nquer abrir a porta,\\nnão e...   \n",
              "4  Se você gritasse,\\nse você gemesse,\\nse você t...   \n",
              "5  Sozinho no escuro\\nqual bicho-do-mato,\\nsem te...   \n",
              "\n",
              "                                               lower  \\\n",
              "0  e agora, josé?\\na festa acabou,\\na luz apagou,...   \n",
              "1  está sem mulher,\\nestá sem discurso,\\nestá sem...   \n",
              "2  e agora, josé?\\nsua doce palavra,\\nseu instant...   \n",
              "3  com a chave na mão\\nquer abrir a porta,\\nnão e...   \n",
              "4  se você gritasse,\\nse você gemesse,\\nse você t...   \n",
              "5  sozinho no escuro\\nqual bicho-do-mato,\\nsem te...   \n",
              "\n",
              "                                    remove_pontuacao  \\\n",
              "0  e agora  jos   a festa acabou  a luz apagou  o...   \n",
              "1  est  sem mulher  est  sem discurso  est  sem c...   \n",
              "2  e agora  jos   sua doce palavra  seu instante ...   \n",
              "3  com a chave na m o quer abrir a porta  n o exi...   \n",
              "4  se voc  gritasse  se voc  gemesse  se voc  toc...   \n",
              "5  sozinho no escuro qual bicho do mato  sem teog...   \n",
              "\n",
              "                                               split  \n",
              "0  [e, agora, jos, a, festa, acabou, a, luz, apag...  \n",
              "1  [est, sem, mulher, est, sem, discurso, est, se...  \n",
              "2  [e, agora, jos, sua, doce, palavra, seu, insta...  \n",
              "3  [com, a, chave, na, m, o, quer, abrir, a, port...  \n",
              "4  [se, voc, gritasse, se, voc, gemesse, se, voc,...  \n",
              "5  [sozinho, no, escuro, qual, bicho, do, mato, s...  "
            ],
            "text/html": [
              "\n",
              "  <div id=\"df-515d3abc-5468-42a1-b99e-eb94408dcd8b\" class=\"colab-df-container\">\n",
              "    <div>\n",
              "<style scoped>\n",
              "    .dataframe tbody tr th:only-of-type {\n",
              "        vertical-align: middle;\n",
              "    }\n",
              "\n",
              "    .dataframe tbody tr th {\n",
              "        vertical-align: top;\n",
              "    }\n",
              "\n",
              "    .dataframe thead th {\n",
              "        text-align: right;\n",
              "    }\n",
              "</style>\n",
              "<table border=\"1\" class=\"dataframe\">\n",
              "  <thead>\n",
              "    <tr style=\"text-align: right;\">\n",
              "      <th></th>\n",
              "      <th>texto</th>\n",
              "      <th>lower</th>\n",
              "      <th>remove_pontuacao</th>\n",
              "      <th>split</th>\n",
              "    </tr>\n",
              "  </thead>\n",
              "  <tbody>\n",
              "    <tr>\n",
              "      <th>0</th>\n",
              "      <td>E agora, José?\\nA festa acabou,\\na luz apagou,...</td>\n",
              "      <td>e agora, josé?\\na festa acabou,\\na luz apagou,...</td>\n",
              "      <td>e agora  jos   a festa acabou  a luz apagou  o...</td>\n",
              "      <td>[e, agora, jos, a, festa, acabou, a, luz, apag...</td>\n",
              "    </tr>\n",
              "    <tr>\n",
              "      <th>1</th>\n",
              "      <td>Está sem mulher,\\nestá sem discurso,\\nestá sem...</td>\n",
              "      <td>está sem mulher,\\nestá sem discurso,\\nestá sem...</td>\n",
              "      <td>est  sem mulher  est  sem discurso  est  sem c...</td>\n",
              "      <td>[est, sem, mulher, est, sem, discurso, est, se...</td>\n",
              "    </tr>\n",
              "    <tr>\n",
              "      <th>2</th>\n",
              "      <td>E agora, José?\\nsua doce palavra,\\nseu instant...</td>\n",
              "      <td>e agora, josé?\\nsua doce palavra,\\nseu instant...</td>\n",
              "      <td>e agora  jos   sua doce palavra  seu instante ...</td>\n",
              "      <td>[e, agora, jos, sua, doce, palavra, seu, insta...</td>\n",
              "    </tr>\n",
              "    <tr>\n",
              "      <th>3</th>\n",
              "      <td>Com a chave na mão\\nquer abrir a porta,\\nnão e...</td>\n",
              "      <td>com a chave na mão\\nquer abrir a porta,\\nnão e...</td>\n",
              "      <td>com a chave na m o quer abrir a porta  n o exi...</td>\n",
              "      <td>[com, a, chave, na, m, o, quer, abrir, a, port...</td>\n",
              "    </tr>\n",
              "    <tr>\n",
              "      <th>4</th>\n",
              "      <td>Se você gritasse,\\nse você gemesse,\\nse você t...</td>\n",
              "      <td>se você gritasse,\\nse você gemesse,\\nse você t...</td>\n",
              "      <td>se voc  gritasse  se voc  gemesse  se voc  toc...</td>\n",
              "      <td>[se, voc, gritasse, se, voc, gemesse, se, voc,...</td>\n",
              "    </tr>\n",
              "    <tr>\n",
              "      <th>5</th>\n",
              "      <td>Sozinho no escuro\\nqual bicho-do-mato,\\nsem te...</td>\n",
              "      <td>sozinho no escuro\\nqual bicho-do-mato,\\nsem te...</td>\n",
              "      <td>sozinho no escuro qual bicho do mato  sem teog...</td>\n",
              "      <td>[sozinho, no, escuro, qual, bicho, do, mato, s...</td>\n",
              "    </tr>\n",
              "  </tbody>\n",
              "</table>\n",
              "</div>\n",
              "    <div class=\"colab-df-buttons\">\n",
              "\n",
              "  <div class=\"colab-df-container\">\n",
              "    <button class=\"colab-df-convert\" onclick=\"convertToInteractive('df-515d3abc-5468-42a1-b99e-eb94408dcd8b')\"\n",
              "            title=\"Convert this dataframe to an interactive table.\"\n",
              "            style=\"display:none;\">\n",
              "\n",
              "  <svg xmlns=\"http://www.w3.org/2000/svg\" height=\"24px\" viewBox=\"0 -960 960 960\">\n",
              "    <path d=\"M120-120v-720h720v720H120Zm60-500h600v-160H180v160Zm220 220h160v-160H400v160Zm0 220h160v-160H400v160ZM180-400h160v-160H180v160Zm440 0h160v-160H620v160ZM180-180h160v-160H180v160Zm440 0h160v-160H620v160Z\"/>\n",
              "  </svg>\n",
              "    </button>\n",
              "\n",
              "  <style>\n",
              "    .colab-df-container {\n",
              "      display:flex;\n",
              "      gap: 12px;\n",
              "    }\n",
              "\n",
              "    .colab-df-convert {\n",
              "      background-color: #E8F0FE;\n",
              "      border: none;\n",
              "      border-radius: 50%;\n",
              "      cursor: pointer;\n",
              "      display: none;\n",
              "      fill: #1967D2;\n",
              "      height: 32px;\n",
              "      padding: 0 0 0 0;\n",
              "      width: 32px;\n",
              "    }\n",
              "\n",
              "    .colab-df-convert:hover {\n",
              "      background-color: #E2EBFA;\n",
              "      box-shadow: 0px 1px 2px rgba(60, 64, 67, 0.3), 0px 1px 3px 1px rgba(60, 64, 67, 0.15);\n",
              "      fill: #174EA6;\n",
              "    }\n",
              "\n",
              "    .colab-df-buttons div {\n",
              "      margin-bottom: 4px;\n",
              "    }\n",
              "\n",
              "    [theme=dark] .colab-df-convert {\n",
              "      background-color: #3B4455;\n",
              "      fill: #D2E3FC;\n",
              "    }\n",
              "\n",
              "    [theme=dark] .colab-df-convert:hover {\n",
              "      background-color: #434B5C;\n",
              "      box-shadow: 0px 1px 3px 1px rgba(0, 0, 0, 0.15);\n",
              "      filter: drop-shadow(0px 1px 2px rgba(0, 0, 0, 0.3));\n",
              "      fill: #FFFFFF;\n",
              "    }\n",
              "  </style>\n",
              "\n",
              "    <script>\n",
              "      const buttonEl =\n",
              "        document.querySelector('#df-515d3abc-5468-42a1-b99e-eb94408dcd8b button.colab-df-convert');\n",
              "      buttonEl.style.display =\n",
              "        google.colab.kernel.accessAllowed ? 'block' : 'none';\n",
              "\n",
              "      async function convertToInteractive(key) {\n",
              "        const element = document.querySelector('#df-515d3abc-5468-42a1-b99e-eb94408dcd8b');\n",
              "        const dataTable =\n",
              "          await google.colab.kernel.invokeFunction('convertToInteractive',\n",
              "                                                    [key], {});\n",
              "        if (!dataTable) return;\n",
              "\n",
              "        const docLinkHtml = 'Like what you see? Visit the ' +\n",
              "          '<a target=\"_blank\" href=https://colab.research.google.com/notebooks/data_table.ipynb>data table notebook</a>'\n",
              "          + ' to learn more about interactive tables.';\n",
              "        element.innerHTML = '';\n",
              "        dataTable['output_type'] = 'display_data';\n",
              "        await google.colab.output.renderOutput(dataTable, element);\n",
              "        const docLink = document.createElement('div');\n",
              "        docLink.innerHTML = docLinkHtml;\n",
              "        element.appendChild(docLink);\n",
              "      }\n",
              "    </script>\n",
              "  </div>\n",
              "\n",
              "\n",
              "<div id=\"df-caa4294b-ee2f-47e0-be92-6926ccc22fcf\">\n",
              "  <button class=\"colab-df-quickchart\" onclick=\"quickchart('df-caa4294b-ee2f-47e0-be92-6926ccc22fcf')\"\n",
              "            title=\"Suggest charts\"\n",
              "            style=\"display:none;\">\n",
              "\n",
              "<svg xmlns=\"http://www.w3.org/2000/svg\" height=\"24px\"viewBox=\"0 0 24 24\"\n",
              "     width=\"24px\">\n",
              "    <g>\n",
              "        <path d=\"M19 3H5c-1.1 0-2 .9-2 2v14c0 1.1.9 2 2 2h14c1.1 0 2-.9 2-2V5c0-1.1-.9-2-2-2zM9 17H7v-7h2v7zm4 0h-2V7h2v10zm4 0h-2v-4h2v4z\"/>\n",
              "    </g>\n",
              "</svg>\n",
              "  </button>\n",
              "\n",
              "<style>\n",
              "  .colab-df-quickchart {\n",
              "      --bg-color: #E8F0FE;\n",
              "      --fill-color: #1967D2;\n",
              "      --hover-bg-color: #E2EBFA;\n",
              "      --hover-fill-color: #174EA6;\n",
              "      --disabled-fill-color: #AAA;\n",
              "      --disabled-bg-color: #DDD;\n",
              "  }\n",
              "\n",
              "  [theme=dark] .colab-df-quickchart {\n",
              "      --bg-color: #3B4455;\n",
              "      --fill-color: #D2E3FC;\n",
              "      --hover-bg-color: #434B5C;\n",
              "      --hover-fill-color: #FFFFFF;\n",
              "      --disabled-bg-color: #3B4455;\n",
              "      --disabled-fill-color: #666;\n",
              "  }\n",
              "\n",
              "  .colab-df-quickchart {\n",
              "    background-color: var(--bg-color);\n",
              "    border: none;\n",
              "    border-radius: 50%;\n",
              "    cursor: pointer;\n",
              "    display: none;\n",
              "    fill: var(--fill-color);\n",
              "    height: 32px;\n",
              "    padding: 0;\n",
              "    width: 32px;\n",
              "  }\n",
              "\n",
              "  .colab-df-quickchart:hover {\n",
              "    background-color: var(--hover-bg-color);\n",
              "    box-shadow: 0 1px 2px rgba(60, 64, 67, 0.3), 0 1px 3px 1px rgba(60, 64, 67, 0.15);\n",
              "    fill: var(--button-hover-fill-color);\n",
              "  }\n",
              "\n",
              "  .colab-df-quickchart-complete:disabled,\n",
              "  .colab-df-quickchart-complete:disabled:hover {\n",
              "    background-color: var(--disabled-bg-color);\n",
              "    fill: var(--disabled-fill-color);\n",
              "    box-shadow: none;\n",
              "  }\n",
              "\n",
              "  .colab-df-spinner {\n",
              "    border: 2px solid var(--fill-color);\n",
              "    border-color: transparent;\n",
              "    border-bottom-color: var(--fill-color);\n",
              "    animation:\n",
              "      spin 1s steps(1) infinite;\n",
              "  }\n",
              "\n",
              "  @keyframes spin {\n",
              "    0% {\n",
              "      border-color: transparent;\n",
              "      border-bottom-color: var(--fill-color);\n",
              "      border-left-color: var(--fill-color);\n",
              "    }\n",
              "    20% {\n",
              "      border-color: transparent;\n",
              "      border-left-color: var(--fill-color);\n",
              "      border-top-color: var(--fill-color);\n",
              "    }\n",
              "    30% {\n",
              "      border-color: transparent;\n",
              "      border-left-color: var(--fill-color);\n",
              "      border-top-color: var(--fill-color);\n",
              "      border-right-color: var(--fill-color);\n",
              "    }\n",
              "    40% {\n",
              "      border-color: transparent;\n",
              "      border-right-color: var(--fill-color);\n",
              "      border-top-color: var(--fill-color);\n",
              "    }\n",
              "    60% {\n",
              "      border-color: transparent;\n",
              "      border-right-color: var(--fill-color);\n",
              "    }\n",
              "    80% {\n",
              "      border-color: transparent;\n",
              "      border-right-color: var(--fill-color);\n",
              "      border-bottom-color: var(--fill-color);\n",
              "    }\n",
              "    90% {\n",
              "      border-color: transparent;\n",
              "      border-bottom-color: var(--fill-color);\n",
              "    }\n",
              "  }\n",
              "</style>\n",
              "\n",
              "  <script>\n",
              "    async function quickchart(key) {\n",
              "      const quickchartButtonEl =\n",
              "        document.querySelector('#' + key + ' button');\n",
              "      quickchartButtonEl.disabled = true;  // To prevent multiple clicks.\n",
              "      quickchartButtonEl.classList.add('colab-df-spinner');\n",
              "      try {\n",
              "        const charts = await google.colab.kernel.invokeFunction(\n",
              "            'suggestCharts', [key], {});\n",
              "      } catch (error) {\n",
              "        console.error('Error during call to suggestCharts:', error);\n",
              "      }\n",
              "      quickchartButtonEl.classList.remove('colab-df-spinner');\n",
              "      quickchartButtonEl.classList.add('colab-df-quickchart-complete');\n",
              "    }\n",
              "    (() => {\n",
              "      let quickchartButtonEl =\n",
              "        document.querySelector('#df-caa4294b-ee2f-47e0-be92-6926ccc22fcf button');\n",
              "      quickchartButtonEl.style.display =\n",
              "        google.colab.kernel.accessAllowed ? 'block' : 'none';\n",
              "    })();\n",
              "  </script>\n",
              "</div>\n",
              "    </div>\n",
              "  </div>\n"
            ]
          },
          "metadata": {},
          "execution_count": 13
        }
      ]
    },
    {
      "cell_type": "markdown",
      "source": [
        "##### Criando o vocabulário"
      ],
      "metadata": {
        "id": "1QBZljrORjzU"
      }
    },
    {
      "cell_type": "code",
      "source": [
        "vocabulario = []\n",
        "\n",
        "def cria_vocabulario(palavras):\n",
        "    global vocabulario\n",
        "    vocabulario = np.union1d(vocabulario, palavras)"
      ],
      "metadata": {
        "id": "WZZIPOqARjOc"
      },
      "execution_count": 30,
      "outputs": []
    },
    {
      "cell_type": "code",
      "source": [
        "df.apply(lambda row: cria_vocabulario(row['split']), axis=1)"
      ],
      "metadata": {
        "colab": {
          "base_uri": "https://localhost:8080/"
        },
        "id": "gMqhLdQzRzYq",
        "outputId": "386c41dc-01e5-455a-9e83-ce45bc07c541"
      },
      "execution_count": 31,
      "outputs": [
        {
          "output_type": "execute_result",
          "data": {
            "text/plain": [
              "0    None\n",
              "1    None\n",
              "2    None\n",
              "3    None\n",
              "4    None\n",
              "5    None\n",
              "dtype: object"
            ]
          },
          "metadata": {},
          "execution_count": 31
        }
      ]
    },
    {
      "cell_type": "code",
      "source": [
        "vocabulario"
      ],
      "metadata": {
        "colab": {
          "base_uri": "https://localhost:8080/"
        },
        "id": "j3TvBtnKSI65",
        "outputId": "cf287430-2c56-4f69-92cf-9b9471db344f"
      },
      "execution_count": 32,
      "outputs": [
        {
          "output_type": "execute_result",
          "data": {
            "text/plain": [
              "array(['a', 'abrir', 'acabou', 'agora', 'ama', 'apagou', 'beber',\n",
              "       'biblioteca', 'bicho', 'bonde', 'cansasse', 'carinho', 'cavalo',\n",
              "       'chave', 'com', 'cuspir', 'de', 'dia', 'dio', 'discurso', 'do',\n",
              "       'doce', 'dormisse', 'dos', 'duro', 'e', 'encostar', 'escuro',\n",
              "       'esfriou', 'est', 'existe', 'faz', 'febre', 'festa', 'fugiu',\n",
              "       'fuja', 'fumar', 'galope', 'gemesse', 'gritasse', 'gula', 'h',\n",
              "       'incoer', 'instante', 'ir', 'j', 'jejum', 'jos', 'lavra', 'luz',\n",
              "       'm', 'mais', 'mar', 'marcha', 'mas', 'mato', 'minas', 'mofou',\n",
              "       'morre', 'morrer', 'morresse', 'mulher', 'n', 'na', 'ncia', 'no',\n",
              "       'noite', 'nome', 'nua', 'o', 'onde', 'ouro', 'outros', 'palavra',\n",
              "       'para', 'parede', 'pode', 'porta', 'povo', 'preto', 'protesta',\n",
              "       'qual', 'que', 'quer', 'riso', 'se', 'secou', 'sem', 'seu',\n",
              "       'sozinho', 'sua', 'sumiu', 'teogonia', 'terno', 'tocasse', 'tudo',\n",
              "       'utopia', 'valsa', 'veio', 'versos', 'vidro', 'vienense', 'voc',\n",
              "       'zomba'], dtype='<U32')"
            ]
          },
          "metadata": {},
          "execution_count": 32
        }
      ]
    },
    {
      "cell_type": "code",
      "source": [
        "#criando os vetores\n",
        "model = Word2Vec(\n",
        "    [df['split'][0], df['split'][1], df['split'][2], df['split'][3], df['split'][4], df['split'][5]],\n",
        "    vector_size=300,\n",
        "    window=4,\n",
        "    min_count=1,\n",
        "    workers=1,\n",
        "    epochs=10, sg=0)\n",
        "\n",
        "# verificando a palavra mais similar\n",
        "similar = model.wv.most_similar('bicho')\n",
        "print(similar)"
      ],
      "metadata": {
        "colab": {
          "base_uri": "https://localhost:8080/"
        },
        "id": "38J_UqWqQ2KX",
        "outputId": "92339b18-0ca8-4378-865b-21e92e5c053c"
      },
      "execution_count": 38,
      "outputs": [
        {
          "output_type": "stream",
          "name": "stdout",
          "text": [
            "[('o', 0.188053697347641), ('mar', 0.13849429786205292), ('de', 0.1356598138809204), ('j', 0.13465985655784607), ('marcha', 0.10354442149400711), ('pode', 0.08681363612413406), ('parede', 0.08069062232971191), ('tocasse', 0.08009570837020874), ('est', 0.07495914399623871), ('duro', 0.06962590664625168)]\n"
          ]
        }
      ]
    },
    {
      "cell_type": "code",
      "source": [
        "similar = model.wv.most_similar('chave')\n",
        "print (similar)"
      ],
      "metadata": {
        "colab": {
          "base_uri": "https://localhost:8080/"
        },
        "id": "TKFCNVVURb8d",
        "outputId": "e29191f8-058f-4e79-d6aa-4bc77ff962e5"
      },
      "execution_count": 39,
      "outputs": [
        {
          "output_type": "stream",
          "name": "stdout",
          "text": [
            "[('gula', 0.20732127130031586), ('sua', 0.17511746287345886), ('bonde', 0.11620576679706573), ('tudo', 0.11349517852067947), ('sem', 0.10308894515037537), ('acabou', 0.08940022438764572), ('mar', 0.08453346788883209), ('faz', 0.08430586755275726), ('versos', 0.08426257222890854), ('sumiu', 0.08360885828733444)]\n"
          ]
        }
      ]
    }
  ]
}
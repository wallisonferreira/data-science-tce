{
  "nbformat": 4,
  "nbformat_minor": 0,
  "metadata": {
    "colab": {
      "provenance": [],
      "authorship_tag": "ABX9TyNw1PDfA2rdHjdhhj5YvFJJ",
      "include_colab_link": true
    },
    "kernelspec": {
      "name": "python3",
      "display_name": "Python 3"
    },
    "language_info": {
      "name": "python"
    }
  },
  "cells": [
    {
      "cell_type": "markdown",
      "metadata": {
        "id": "view-in-github",
        "colab_type": "text"
      },
      "source": [
        "<a href=\"https://colab.research.google.com/github/wallisonferreira/data-science-tce/blob/main/aula_lambda_exceptions_loops.ipynb\" target=\"_parent\"><img src=\"https://colab.research.google.com/assets/colab-badge.svg\" alt=\"Open In Colab\"/></a>"
      ]
    },
    {
      "cell_type": "markdown",
      "source": [
        "### Syntax\n",
        "\n",
        "lambda arguments : expression"
      ],
      "metadata": {
        "id": "Wo0GPuNJWq4-"
      }
    },
    {
      "cell_type": "code",
      "source": [
        "x = lambda a : len(a)\n",
        "\n",
        "print(x(\"Python Is\"))"
      ],
      "metadata": {
        "colab": {
          "base_uri": "https://localhost:8080/"
        },
        "id": "r7tcKFrVWmBe",
        "outputId": "f9549874-16d9-4008-8a58-822a0927f000"
      },
      "execution_count": 1,
      "outputs": [
        {
          "output_type": "stream",
          "name": "stdout",
          "text": [
            "9\n"
          ]
        }
      ]
    },
    {
      "cell_type": "code",
      "execution_count": 4,
      "metadata": {
        "colab": {
          "base_uri": "https://localhost:8080/"
        },
        "id": "38wPxsCFWcyZ",
        "outputId": "6a163e2a-08fd-4777-8b8a-0e9ed791815f"
      },
      "outputs": [
        {
          "output_type": "stream",
          "name": "stdout",
          "text": [
            "111\n"
          ]
        }
      ],
      "source": [
        "y = lambda num: 10 + num if num > 100 else 20 + num\n",
        "\n",
        "print(y(101))"
      ]
    },
    {
      "cell_type": "code",
      "source": [
        "users = [\n",
        "    {\n",
        "        'id': 1,\n",
        "        'age': 16,\n",
        "        'name': 'Lil'\n",
        "    },\n",
        "    {\n",
        "        'id': 1,\n",
        "        'age': 16,\n",
        "        'name': 'Sheron'\n",
        "    },\n",
        "    {\n",
        "        'id': 2,\n",
        "        'age': 21,\n",
        "        'name': 'Karl'\n",
        "    },\n",
        "    {\n",
        "        'id': 2,\n",
        "        'age': 26,\n",
        "        'name': 'Hannah'\n",
        "    }\n",
        "]"
      ],
      "metadata": {
        "id": "0tJnHrA8Zp8Z"
      },
      "execution_count": 12,
      "outputs": []
    },
    {
      "cell_type": "code",
      "source": [
        "def users_over_27(user):\n",
        "    return user['age'] > 27\n",
        "\n",
        "filtered_users = filter(users_over_27, users)\n",
        "\n",
        "# OR\n",
        "\n",
        "filtered_users = filter(lambda user: user['age'] < 18, users)\n",
        "\n",
        "print(list(filtered_users))\n",
        "print(type(filtered_users))\n",
        "print(filtered_users)"
      ],
      "metadata": {
        "colab": {
          "base_uri": "https://localhost:8080/"
        },
        "id": "PcDkQyd8ZBF7",
        "outputId": "43a0f9c3-3f1b-4255-893f-64338c0c0e6c"
      },
      "execution_count": 15,
      "outputs": [
        {
          "output_type": "stream",
          "name": "stdout",
          "text": [
            "[{'id': 1, 'age': 16, 'name': 'Lil'}, {'id': 1, 'age': 16, 'name': 'Sheron'}]\n",
            "<class 'filter'>\n",
            "<filter object at 0x7f677e712650>\n"
          ]
        }
      ]
    },
    {
      "cell_type": "code",
      "source": [
        "def myfunc(n):\n",
        "    return lambda a : a * n\n",
        "\n",
        "mydoubler = myfunc(2)\n",
        "mytripler = myfunc(3)\n",
        "\n",
        "print(mydoubler(11))\n",
        "print(mytripler(11))"
      ],
      "metadata": {
        "colab": {
          "base_uri": "https://localhost:8080/"
        },
        "id": "UXpy4zzfbWD7",
        "outputId": "d0948150-ffb3-4a87-e91c-10e4a9c1f748"
      },
      "execution_count": 11,
      "outputs": [
        {
          "output_type": "stream",
          "name": "stdout",
          "text": [
            "22\n",
            "33\n"
          ]
        }
      ]
    },
    {
      "cell_type": "code",
      "source": [
        "numero1 = 15\n",
        "numero2 = 0\n",
        "\n",
        "def divisao(numero1, numero2):\n",
        "    try:\n",
        "        return numero1/numero2\n",
        "    except ZeroDivisionError:\n",
        "        return \"entre com um divisor maior do que zero\"\n",
        "    else:\n",
        "        print(' Sem erros')\n",
        "    finally:\n",
        "        print(' Aqui sempre vai executar')\n",
        "\n",
        "resultado = divisao(numero1,numero2)\n",
        "\n",
        "print(resultado)"
      ],
      "metadata": {
        "colab": {
          "base_uri": "https://localhost:8080/"
        },
        "id": "uE9rf6ZmdMoV",
        "outputId": "84f9f523-b067-4835-fdd3-2817bdedda1b"
      },
      "execution_count": 25,
      "outputs": [
        {
          "output_type": "stream",
          "name": "stdout",
          "text": [
            " Aqui sempre vai executar\n",
            "entre com um divisor maior do que zero\n"
          ]
        }
      ]
    },
    {
      "cell_type": "code",
      "source": [
        "try:\n",
        "    print(3/0)\n",
        "except ZeroDivisionError as e:\n",
        "    print(\"entre com um divisor maior do que zero\")\n",
        "    print(\"motivo: \", e)\n",
        "else:\n",
        "    print(' Sem erros')\n",
        "finally:\n",
        "    print(' Aqui sempre vai executar')\n",
        "print('Hi')"
      ],
      "metadata": {
        "colab": {
          "base_uri": "https://localhost:8080/"
        },
        "id": "-3TqmCtZiP1e",
        "outputId": "62d9be80-a3be-480a-b749-614879a40f52"
      },
      "execution_count": 28,
      "outputs": [
        {
          "output_type": "stream",
          "name": "stdout",
          "text": [
            "entre com um divisor maior do que zero\n",
            "motivo:  division by zero\n",
            " Aqui sempre vai executar\n",
            "Hi\n"
          ]
        }
      ]
    },
    {
      "cell_type": "markdown",
      "source": [
        "### Lançando exceções"
      ],
      "metadata": {
        "id": "lxENflEEjN8a"
      }
    },
    {
      "cell_type": "code",
      "source": [
        "def func_eh_par(n):\n",
        "    if n < 0:\n",
        "        raise ValueError(\"Numero deve ser positivo \", n)\n",
        "    if type(n) is not int:\n",
        "        raise TypeError(\"Valor deve ser inteiro: \", n)\n",
        "    return (n % 2 == 0)\n",
        "\n",
        "numeros = [5, 6.5, -1, 6]\n",
        "\n",
        "for num in numeros:\n",
        "    try:\n",
        "        print(str(num) + \" é par?\", end = \" \")\n",
        "        print(func_eh_par(num))\n",
        "    except Exception as e:\n",
        "        print(e)"
      ],
      "metadata": {
        "colab": {
          "base_uri": "https://localhost:8080/"
        },
        "id": "t6Wlu0n6jJgq",
        "outputId": "932d70ac-e6ff-4b5e-cd03-c2ffec1115ee"
      },
      "execution_count": 31,
      "outputs": [
        {
          "output_type": "stream",
          "name": "stdout",
          "text": [
            "5 é par? False\n",
            "6.5 é par? ('Valor deve ser inteiro: ', 6.5)\n",
            "-1 é par? ('Numero deve ser positivo ', -1)\n",
            "6 é par? True\n"
          ]
        }
      ]
    },
    {
      "cell_type": "markdown",
      "source": [
        "### Substituindo loops em Python"
      ],
      "metadata": {
        "id": "kR_v4E_lpndd"
      }
    },
    {
      "cell_type": "code",
      "source": [
        "print (\"-\".join([\"João\",\"Maria\",\"Jose\"]))"
      ],
      "metadata": {
        "colab": {
          "base_uri": "https://localhost:8080/"
        },
        "id": "E5EIN1iipqY1",
        "outputId": "8ca268fe-7e5c-4588-f7ef-60040d974f7a"
      },
      "execution_count": 32,
      "outputs": [
        {
          "output_type": "stream",
          "name": "stdout",
          "text": [
            "João-Maria-Jose\n"
          ]
        }
      ]
    },
    {
      "cell_type": "code",
      "source": [
        "from datetime import datetime\n",
        "\n",
        "data_str = '24/10/2023'\n",
        "\n",
        "data = datetime.strptime(data_str, '%d/%m/%Y')\n",
        "\n",
        "estacoes_do_ano = [\n",
        "    (datetime(data.year, 3, 20), datetime(data.year, 6, 20)), # primavera\n",
        "    (datetime(data.year, 6, 21), datetime(data.year, 9, 22)), # verão\n",
        "    (datetime(data.year, 9, 23), datetime(data.year, 12, 21)), # outono\n",
        "    (datetime(data.year, 12, 22), datetime(data.year+1, 3, 19)) # inverno\n",
        "]\n",
        "\n",
        "print (estacoes_do_ano)\n",
        "zip_estacoes  = zip(['Primavera', 'Verão', 'Outono', 'Inverno'], estacoes_do_ano)"
      ],
      "metadata": {
        "colab": {
          "base_uri": "https://localhost:8080/"
        },
        "id": "YtpzLf9FqT0C",
        "outputId": "4aa1db39-3a0b-4b7b-8c2e-3c399f955478"
      },
      "execution_count": 35,
      "outputs": [
        {
          "output_type": "stream",
          "name": "stdout",
          "text": [
            "[(datetime.datetime(2023, 3, 20, 0, 0), datetime.datetime(2023, 6, 20, 0, 0)), (datetime.datetime(2023, 6, 21, 0, 0), datetime.datetime(2023, 9, 22, 0, 0)), (datetime.datetime(2023, 9, 23, 0, 0), datetime.datetime(2023, 12, 21, 0, 0)), (datetime.datetime(2023, 12, 22, 0, 0), datetime.datetime(2024, 3, 19, 0, 0))]\n"
          ]
        }
      ]
    },
    {
      "cell_type": "code",
      "source": [
        "'''\n",
        "este código exibe para o usuário a estação em uma determinada data.\n",
        " A compreensão de lista é usada para iterar sobre as tuplas da lista \n",
        " estacoes_do_ano e encontrar a estação do ano correspondente.\n",
        "'''\n",
        "# encontra a estação do ano a partir da data informada pelo usuário\n",
        "lista_filtrada = [nome for nome, limites in zip_estacoes if limites[0] <= data <= limites[1]]\n",
        "#estacao = lista_filtrada.pop()\n",
        "estacao = lista_filtrada[0]\n",
        "\n",
        "# exibe a estação do ano para o usuário\n",
        "print(\"A estação do ano em\", data_str, \"é\", estacao)"
      ],
      "metadata": {
        "colab": {
          "base_uri": "https://localhost:8080/"
        },
        "id": "IsMP6NoSuJZ5",
        "outputId": "c7ebd238-15d4-4f6a-a77a-36c1e4f093af"
      },
      "execution_count": 36,
      "outputs": [
        {
          "output_type": "stream",
          "name": "stdout",
          "text": [
            "A estação do ano em 24/10/2023 é Outono\n"
          ]
        }
      ]
    }
  ]
}
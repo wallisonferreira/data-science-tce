{
  "nbformat": 4,
  "nbformat_minor": 0,
  "metadata": {
    "colab": {
      "provenance": [],
      "include_colab_link": true
    },
    "kernelspec": {
      "name": "python3",
      "display_name": "Python 3"
    },
    "language_info": {
      "name": "python"
    }
  },
  "cells": [
    {
      "cell_type": "markdown",
      "metadata": {
        "id": "view-in-github",
        "colab_type": "text"
      },
      "source": [
        "<a href=\"https://colab.research.google.com/github/wallisonferreira/data-science-tce/blob/main/Exercicio_revisao_python_Wallison.ipynb\" target=\"_parent\"><img src=\"https://colab.research.google.com/assets/colab-badge.svg\" alt=\"Open In Colab\"/></a>"
      ]
    },
    {
      "cell_type": "markdown",
      "source": [
        "\n",
        "\n",
        "\n",
        "# Exercícios - Python\n",
        "\n",
        "\n"
      ],
      "metadata": {
        "id": "zUMfgHCCNFND"
      }
    },
    {
      "cell_type": "markdown",
      "source": [
        "Questões abaixo utilizam sorteios de números para tornar os exercícios mais dinâmicos. Execute o código abaixo para importar a biblioteca utilizada."
      ],
      "metadata": {
        "id": "Qxya7qmnM3BM"
      }
    },
    {
      "cell_type": "code",
      "source": [
        "import random\n",
        "random.seed(13)"
      ],
      "metadata": {
        "id": "d7oJzjZNMy51"
      },
      "execution_count": 1,
      "outputs": []
    },
    {
      "cell_type": "markdown",
      "source": [
        "# **Comandos Condicionais**"
      ],
      "metadata": {
        "id": "vkKS3h7SLHlc"
      }
    },
    {
      "cell_type": "code",
      "execution_count": 11,
      "metadata": {
        "id": "YCUrM-PZLAUd",
        "colab": {
          "base_uri": "https://localhost:8080/"
        },
        "outputId": "e0410777-701a-43e1-d039-ef07cb7823fa"
      },
      "outputs": [
        {
          "output_type": "stream",
          "name": "stdout",
          "text": [
            "4.315803283922126 é o maior número sorteado\n"
          ]
        }
      ],
      "source": [
        "num1 = random.random()*10\n",
        "num2 = random.random()*10\n",
        "# implemente um comando condicional para IMPRIMIR qual o maior número sorteado\n",
        "def textoMaior(number):\n",
        "    print(f'{number} é o maior número sorteado')\n",
        "textoMaior(num1) if (num1 > num2) else textoMaior(num2)"
      ]
    },
    {
      "cell_type": "code",
      "source": [
        "num1 = random.random()*10\n",
        "num2 = random.random()*10\n",
        "# implemente um comando condicional IF \"Ternário\" para amarzenar em uma nova variável e IMPRIMIR o maior número sorteado\n",
        "def textoMaior(number):\n",
        "    return f'{number} é o maior número sorteado'\n",
        "\n",
        "maior = num1 if (num1 > num2) else num2\n",
        "print(textoMaior(maior))"
      ],
      "metadata": {
        "id": "D51dFZZ0PjV8",
        "colab": {
          "base_uri": "https://localhost:8080/"
        },
        "outputId": "684ffda0-fbb1-41b0-c3f3-f23004cec606"
      },
      "execution_count": 20,
      "outputs": [
        {
          "output_type": "stream",
          "name": "stdout",
          "text": [
            "5.641385986016807 é o maior número sorteado\n"
          ]
        }
      ]
    },
    {
      "cell_type": "markdown",
      "source": [
        "#**Comandos de Repetição**"
      ],
      "metadata": {
        "id": "VeAgJfWvMeSN"
      }
    },
    {
      "cell_type": "markdown",
      "source": [
        "Complete a questão abaixo para exibir nome do dia da semana: 1-segunda, 2-terça,...7-domingo. Quando o dia da semana for domingo você deverá finalizar o loop de repetição. \n",
        "\n",
        "Observe a necessidade de comandos como break/continue/pass (caso contrário o entrará numa execução \"infinita\")"
      ],
      "metadata": {
        "id": "VQng3CCsN408"
      }
    },
    {
      "cell_type": "code",
      "source": [
        "while True:\n",
        "  numero = random.randint(1,7) #numero aleatório entre 1 e 7 (inclusive)\n",
        "  print(\"Dia da semana: \", numero)\n",
        "  ## utilizar comandos condicionais\n",
        "  weekmap = {1:'segunda', 2:'terça', 3:'quarta', 4:'quinta', 5:'sexta', 6:'sábado', 7:'domingo'}\n",
        "  if (numero == 1):\n",
        "    print('segunda')\n",
        "  elif (numero == 2):\n",
        "    print('terça')\n",
        "  elif (numero == 3):\n",
        "    print('quarta')\n",
        "  elif (numero == 4):\n",
        "    print('quinta')\n",
        "  elif (numero == 5):\n",
        "    print('sexta')\n",
        "  elif (numero == 6):\n",
        "    print('sábado')\n",
        "  else:\n",
        "    print('domingo')\n",
        "    break"
      ],
      "metadata": {
        "id": "yxsPuS_hLg38",
        "colab": {
          "base_uri": "https://localhost:8080/"
        },
        "outputId": "d01e394e-1c32-44cd-e59b-e2087351ed96"
      },
      "execution_count": 32,
      "outputs": [
        {
          "output_type": "stream",
          "name": "stdout",
          "text": [
            "Dia da semana:  7\n",
            "domingo\n"
          ]
        }
      ]
    },
    {
      "cell_type": "markdown",
      "source": [
        "Vamos refazer a questão anterior, utilizando coleções (listas, tuplas,..) para eliminar a necessidade dos comandos condicionais na escolha dos dias"
      ],
      "metadata": {
        "id": "55dZ9SOSQQQI"
      }
    },
    {
      "cell_type": "code",
      "source": [
        "dias = [\"segunda\",\"terça\",\"quarta\",\"quinta\",\"sexta\",\"sábado\",\"domingo\"]\n",
        "while True:\n",
        "  numero = random.randint(1,7) #numero aleatório entre 1 e 7 (inclusive)\n",
        "  print(\"Dia da semana: \", numero)\n",
        "  ## obter o dia utiliza a lista dias\n",
        "  if numero != 7:\n",
        "      print(dias[numero-1])\n",
        "  if numero == 7: break\n"
      ],
      "metadata": {
        "id": "xPZJbnh6QP3K",
        "colab": {
          "base_uri": "https://localhost:8080/"
        },
        "outputId": "6ed7b495-1fe8-48ac-d721-5a736ce7480a"
      },
      "execution_count": 35,
      "outputs": [
        {
          "output_type": "stream",
          "name": "stdout",
          "text": [
            "Dia da semana:  2\n",
            "terça\n",
            "Dia da semana:  5\n",
            "sexta\n",
            "Dia da semana:  4\n",
            "quinta\n",
            "Dia da semana:  1\n",
            "segunda\n",
            "Dia da semana:  6\n",
            "sábado\n",
            "Dia da semana:  4\n",
            "quinta\n",
            "Dia da semana:  2\n",
            "terça\n",
            "Dia da semana:  2\n",
            "terça\n",
            "Dia da semana:  1\n",
            "segunda\n",
            "Dia da semana:  6\n",
            "sábado\n",
            "Dia da semana:  6\n",
            "sábado\n",
            "Dia da semana:  1\n",
            "segunda\n",
            "Dia da semana:  1\n",
            "segunda\n",
            "Dia da semana:  2\n",
            "terça\n",
            "Dia da semana:  4\n",
            "quinta\n",
            "Dia da semana:  6\n",
            "sábado\n",
            "Dia da semana:  1\n",
            "segunda\n",
            "Dia da semana:  5\n",
            "sexta\n",
            "Dia da semana:  6\n",
            "sábado\n",
            "Dia da semana:  7\n"
          ]
        }
      ]
    },
    {
      "cell_type": "code",
      "source": [],
      "metadata": {
        "id": "SJ75nuVsNtbo"
      },
      "execution_count": null,
      "outputs": []
    },
    {
      "cell_type": "markdown",
      "source": [
        "Verificar se teve um jogador que acertou o número sorteado. Qual foi o jogador?"
      ],
      "metadata": {
        "id": "bZbmV2tMSeRJ"
      }
    },
    {
      "cell_type": "code",
      "source": [
        "NUM_JOGADORES = 100\n",
        "PREMIO_TOTAL = 100000 #100.000,00 (Cem mil reais)\n",
        "jogadores = [\"Jogador \" + str(x) for x in range(NUM_JOGADORES)] # 10 jogadores\n",
        "apostas = [random.randint(1,100) for x in range(NUM_JOGADORES)] # 10 apostas (uma para cada jogador)\n",
        "sorteio = random.randint(1,100) #número sorteado\n",
        "\n",
        "#verifique se houve ganhadores e quem são eles\n",
        "ganhadores = []\n",
        "def armazena_ganhadores(apostas, sorteio):\n",
        "  for idx, aposta in enumerate(apostas):\n",
        "    if aposta == sorteio:\n",
        "      ganhadores.append(idx)\n",
        "\n",
        "def imprime_ganhadores(ganhadores):\n",
        "    print(\"Ganhadores deste sorteio: \\n\")\n",
        "    for ganhador in ganhadores:\n",
        "        print(jogadores[ganhador])\n",
        "\n",
        "# Se teve apenas um ganhador informe a mensagem \"Ganhador único\"\n",
        "def imprime_n_ganhadores(ganhadores):\n",
        "    n_ganhadores = len(ganhadores)\n",
        "    if (n_ganhadores) == 0:\n",
        "        print('Não há ganhadores \\n')\n",
        "    elif (n_ganhadores) == 1:\n",
        "        print('Ganhador único \\n')\n",
        "    else:\n",
        "        print(f'Há {n_ganhadores} ganhadores \\n')\n",
        "\n",
        "# Se teve mais de um ganhador faça o rateio igualmente para cada ganhador informando o valor do prêmio\n",
        "def rateio_premio(ganhadores):\n",
        "    n_ganhadores = len(ganhadores)\n",
        "    if (n_ganhadores > 1):\n",
        "        print(f'O prêmio para cada ganhador é de: {(PREMIO_TOTAL/n_ganhadores):.2f}')\n",
        "    elif (n_ganhadores == 1):\n",
        "        print(f'O prêmio para o ganhador é de: {PREMIO_TOTAL}')\n",
        "    else:\n",
        "        print(f'Não houve ganhadores. Prêmio acumulado.')\n",
        "\n",
        "armazena_ganhadores(apostas, sorteio)\n",
        "imprime_ganhadores(ganhadores)\n",
        "imprime_n_ganhadores(ganhadores)\n",
        "rateio_premio(ganhadores)"
      ],
      "metadata": {
        "id": "H7-2Ph3rSny0",
        "colab": {
          "base_uri": "https://localhost:8080/"
        },
        "outputId": "d1d6451c-fe53-46ba-e215-d5c9a653cb65"
      },
      "execution_count": 162,
      "outputs": [
        {
          "output_type": "stream",
          "name": "stdout",
          "text": [
            "Ganhadores deste sorteio: \n",
            "\n",
            "Jogador 27\n",
            "Jogador 40\n",
            "Há 2 ganhadores \n",
            "\n",
            "O prêmio para cada ganhador é de: 50000.00\n"
          ]
        }
      ]
    },
    {
      "cell_type": "markdown",
      "source": [
        "#**List Comprehensions**\n",
        "\n",
        "use list comprehensions pra criar as listas de acordo com o que for pedido:"
      ],
      "metadata": {
        "id": "rndgnP64TnBJ"
      }
    },
    {
      "cell_type": "markdown",
      "metadata": {
        "id": "b7ofnef0hEpo"
      },
      "source": [
        "### Número pares até 30"
      ]
    },
    {
      "cell_type": "code",
      "metadata": {
        "id": "8KEG5McMflhK",
        "colab": {
          "base_uri": "https://localhost:8080/"
        },
        "outputId": "c7666c18-3b82-4c37-a98e-d9e067a2a177"
      },
      "source": [
        "#insira seu código aqui\n",
        "lista_pares = [numero for numero in range(2,31) if numero%2==0]\n",
        "print(lista_pares)"
      ],
      "execution_count": 136,
      "outputs": [
        {
          "output_type": "stream",
          "name": "stdout",
          "text": [
            "[2, 4, 6, 8, 10, 12, 14, 16, 18, 20, 22, 24, 26, 28, 30]\n"
          ]
        }
      ]
    },
    {
      "cell_type": "markdown",
      "metadata": {
        "id": "x6T15otDhVnP"
      },
      "source": [
        "<font color='red'>**Saída esperada:**</font>\n",
        "\n",
        "```py\n",
        "[2, 4, 6, 8, 10, 12, 14, 16, 18, 20, 22, 24, 26, 28, 30]\n",
        "```"
      ]
    },
    {
      "cell_type": "markdown",
      "metadata": {
        "id": "M6efLUcUhrNe"
      },
      "source": [
        "### Quadrado dos números ímpares até 10"
      ]
    },
    {
      "cell_type": "code",
      "metadata": {
        "id": "3Xgr5-FahQES",
        "colab": {
          "base_uri": "https://localhost:8080/"
        },
        "outputId": "9d5c1f45-ccb7-4d53-cfa4-237ef44807c8"
      },
      "source": [
        "#insira seu código aqui\n",
        "lista_q_impares = [numero**2 for numero in range(0, 11) if numero%2!=0]\n",
        "print(lista_q_impares)"
      ],
      "execution_count": 137,
      "outputs": [
        {
          "output_type": "stream",
          "name": "stdout",
          "text": [
            "[1, 9, 25, 49, 81]\n"
          ]
        }
      ]
    },
    {
      "cell_type": "markdown",
      "metadata": {
        "id": "Okrm-gL2h11Y"
      },
      "source": [
        "<font color='red'>**Saída esperada:**</font>\n",
        "\n",
        "```py\n",
        "[1, 9, 25, 49, 81]\n",
        "```"
      ]
    },
    {
      "cell_type": "markdown",
      "metadata": {
        "id": "6mMcmggUi06I"
      },
      "source": [
        "### A idade de cada pessoa de acordo com os anos de nascimento"
      ]
    },
    {
      "cell_type": "code",
      "metadata": {
        "id": "6DlZTIqthzsE",
        "colab": {
          "base_uri": "https://localhost:8080/"
        },
        "outputId": "110c38bc-8b96-4824-c007-8d758dd3e492"
      },
      "source": [
        "ano_atual = 2022 \n",
        "list_anos = [1991, 1994, 1995, 1999, 2000, 2004, 2010]\n",
        "\n",
        "#insira seu código aqui\n",
        "lista_idades = [ano_atual-ano for ano in list_anos]\n",
        "print(lista_idades)"
      ],
      "execution_count": 138,
      "outputs": [
        {
          "output_type": "stream",
          "name": "stdout",
          "text": [
            "[31, 28, 27, 23, 22, 18, 12]\n"
          ]
        }
      ]
    },
    {
      "cell_type": "markdown",
      "metadata": {
        "id": "lj9VmxAijW1f"
      },
      "source": [
        "<font color='red'>**Saída esperada:**</font>\n",
        "\n",
        "```py\n",
        "[31, 28, 27, 23, 22, 18, 12]\n",
        "```"
      ]
    },
    {
      "cell_type": "markdown",
      "source": [
        "# **Coleções**"
      ],
      "metadata": {
        "id": "LDmxlTZYalRd"
      }
    },
    {
      "cell_type": "code",
      "source": [
        "frutas = [\"abacaxi\",\"abacate\",\"amora\",\"banana\",\"bacuri\",\"buriti\",\"caju\",\"carambola\",\"cacau\",\"damasco\",\"durião\",\"embaúba\",\"figo\",\"framboesa\",\"goiaba\",\"graviola\",\"groselha\",\"heisteria\"]\n",
        "random.shuffle(frutas)\n",
        "joao = frutas.copy()[:5]\n",
        "random.shuffle(frutas)\n",
        "lucas = frutas.copy()[:5]\n",
        "random.shuffle(frutas)\n",
        "marcos = frutas.copy()[:5]\n",
        "print(\"joão: \",joao)\n",
        "print(\"lucas: \",lucas)\n",
        "print(\"marcos: \",marcos)"
      ],
      "metadata": {
        "id": "bWEs6uf-anqC",
        "colab": {
          "base_uri": "https://localhost:8080/"
        },
        "outputId": "58decc3b-9e71-4a1e-aa40-5a813edeb966"
      },
      "execution_count": 143,
      "outputs": [
        {
          "output_type": "stream",
          "name": "stdout",
          "text": [
            "joão:  ['graviola', 'abacaxi', 'banana', 'abacate', 'cacau']\n",
            "lucas:  ['banana', 'cacau', 'durião', 'bacuri', 'carambola']\n",
            "marcos:  ['amora', 'bacuri', 'abacaxi', 'groselha', 'banana']\n"
          ]
        }
      ]
    },
    {
      "cell_type": "code",
      "source": [
        "#Quais as frutas que joão e lucas têm em comum?\n",
        "fruta_comum = set(joao).intersection(set(lucas))\n",
        "print(fruta_comum)"
      ],
      "metadata": {
        "id": "_JoLUjvLhbuA",
        "colab": {
          "base_uri": "https://localhost:8080/"
        },
        "outputId": "4ef2264d-0813-40db-d95d-a6f251945756"
      },
      "execution_count": 144,
      "outputs": [
        {
          "output_type": "stream",
          "name": "stdout",
          "text": [
            "{'banana', 'cacau'}\n"
          ]
        }
      ]
    },
    {
      "cell_type": "code",
      "source": [
        "#Quais as frutas que joão, lucas e marcos têm em comum\n",
        "fruta_comum_all = set(joao).intersection(set(lucas)).intersection(set(marcos))\n",
        "print(fruta_comum_all)"
      ],
      "metadata": {
        "id": "G5zli3RtfsR2",
        "colab": {
          "base_uri": "https://localhost:8080/"
        },
        "outputId": "bee4618f-6d9a-4135-fafc-9a6c267a2604"
      },
      "execution_count": 146,
      "outputs": [
        {
          "output_type": "stream",
          "name": "stdout",
          "text": [
            "{'banana'}\n"
          ]
        }
      ]
    },
    {
      "cell_type": "code",
      "source": [
        "#quais as frutas que joão possui e lucas não possui ?\n",
        "fruta_diff = set(joao) - set(lucas)\n",
        "print(fruta_diff)"
      ],
      "metadata": {
        "id": "-a4HJvkMh0Ar",
        "colab": {
          "base_uri": "https://localhost:8080/"
        },
        "outputId": "3c628273-311c-4f58-970d-d6aba6abc96e"
      },
      "execution_count": 149,
      "outputs": [
        {
          "output_type": "stream",
          "name": "stdout",
          "text": [
            "{'abacate', 'abacaxi', 'graviola'}\n"
          ]
        }
      ]
    },
    {
      "cell_type": "code",
      "source": [
        "#quais as frutas que lucas possui e joão não possui?\n",
        "fruta_diff = set(lucas) - set(joao)\n",
        "print(fruta_diff)"
      ],
      "metadata": {
        "id": "9im-9X0Dh6N9",
        "colab": {
          "base_uri": "https://localhost:8080/"
        },
        "outputId": "4e03ed0f-7bf3-4c8c-d1ee-aa5274f56911"
      },
      "execution_count": 150,
      "outputs": [
        {
          "output_type": "stream",
          "name": "stdout",
          "text": [
            "{'carambola', 'bacuri', 'durião'}\n"
          ]
        }
      ]
    },
    {
      "cell_type": "code",
      "source": [
        "#crie uma única lista com as frutas de lucas e marcos (não pode haver repetições)\n",
        "uniao_lucas_marcos = set(lucas).union(set(marcos))\n",
        "print(uniao_lucas_marcos)"
      ],
      "metadata": {
        "id": "wW4gziQ2nmfR",
        "colab": {
          "base_uri": "https://localhost:8080/"
        },
        "outputId": "e7845985-c63b-4b93-c02e-b94b0eafdcf0"
      },
      "execution_count": 152,
      "outputs": [
        {
          "output_type": "stream",
          "name": "stdout",
          "text": [
            "{'durião', 'banana', 'cacau', 'abacaxi', 'carambola', 'amora', 'bacuri', 'groselha'}\n"
          ]
        }
      ]
    },
    {
      "cell_type": "code",
      "source": [
        "#quais frutas possuem mais de 5 caracteres\n",
        "frutas_maior_cinco_caracteres = [fruta for fruta in frutas if len(fruta) > 5]\n",
        "print(frutas_maior_cinco_caracteres)"
      ],
      "metadata": {
        "id": "R8FVGiYKl_Qj",
        "colab": {
          "base_uri": "https://localhost:8080/"
        },
        "outputId": "8d695b56-56d7-4d8d-f2fe-46d93a138a8a"
      },
      "execution_count": 155,
      "outputs": [
        {
          "output_type": "stream",
          "name": "stdout",
          "text": [
            "['bacuri', 'abacaxi', 'groselha', 'banana', 'abacate', 'embaúba', 'durião', 'damasco', 'graviola', 'framboesa', 'carambola', 'buriti', 'goiaba', 'heisteria']\n"
          ]
        }
      ]
    },
    {
      "cell_type": "code",
      "source": [
        "#lista de frutas com as iniciais em Maíusculo, exceto as de lucas\n",
        "frutas_uppercase = [fruta.capitalize() for fruta in frutas if fruta not in lucas]\n",
        "print(frutas_uppercase)"
      ],
      "metadata": {
        "id": "bODbLZ0BmV6y",
        "colab": {
          "base_uri": "https://localhost:8080/"
        },
        "outputId": "ce425a6a-1b26-4778-b6b3-378ca0f255db"
      },
      "execution_count": 163,
      "outputs": [
        {
          "output_type": "stream",
          "name": "stdout",
          "text": [
            "['Amora', 'Abacaxi', 'Groselha', 'Abacate', 'Embaúba', 'Damasco', 'Figo', 'Graviola', 'Framboesa', 'Buriti', 'Goiaba', 'Heisteria', 'Caju']\n"
          ]
        }
      ]
    }
  ]
}
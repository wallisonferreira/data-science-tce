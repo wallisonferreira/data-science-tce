{
  "nbformat": 4,
  "nbformat_minor": 0,
  "metadata": {
    "colab": {
      "provenance": [],
      "include_colab_link": true
    },
    "kernelspec": {
      "name": "python3",
      "display_name": "Python 3"
    },
    "language_info": {
      "name": "python"
    }
  },
  "cells": [
    {
      "cell_type": "markdown",
      "metadata": {
        "id": "view-in-github",
        "colab_type": "text"
      },
      "source": [
        "<a href=\"https://colab.research.google.com/github/wallisonferreira/data-science-tce/blob/main/Exercicio_Cole%C3%A7%C3%B5es_recursos_avan%C3%A7ados_Wallison.ipynb\" target=\"_parent\"><img src=\"https://colab.research.google.com/assets/colab-badge.svg\" alt=\"Open In Colab\"/></a>"
      ]
    },
    {
      "cell_type": "markdown",
      "source": [
        "# Exercício envolvendo recursos avançados\n",
        "Considere a regra de calculo de imposto abaixo e a lista de produtos definida:\n",
        "\n",
        "*   Categoria A: 10%\n",
        "*   Categoria B: 20%"
      ],
      "metadata": {
        "id": "acfUrl9qmEi4"
      }
    },
    {
      "cell_type": "code",
      "source": [
        "produtos =[\n",
        "  {\n",
        "  \"Produto\":\"Caneta\",\n",
        "  \"Valor\": 5.5,\n",
        "  \"Categoria\": \"A\"\n",
        "  },\n",
        "  {\n",
        "    \"Produto\":\"Notebook Acer core i5\",\n",
        "    \"Valor\": 5000.50,\n",
        "    \"Categoria\": \"B\"\n",
        "  },\n",
        "  {\n",
        "    \"Produto\":\"Caderno\",\n",
        "    \"Valor\": 15.5,\n",
        "    \"Categoria\": \"A\"\n",
        "  },\n",
        "  {\n",
        "    \"Produto\":\"Monitor LG 15\\\"\",\n",
        "    \"Valor\": 1000.50,\n",
        "    \"Categoria\": \"B\"\n",
        "  }\n",
        "]\n"
      ],
      "metadata": {
        "id": "AMTcsuLrfqr3"
      },
      "execution_count": 2,
      "outputs": []
    },
    {
      "cell_type": "markdown",
      "source": [
        "\n",
        "\n",
        "1. Calcular o imposto de cada produto\n",
        "2. Calcule a soma total de impostos.\n",
        "3. Calcule os impostos apenas dos produtos de Categoria B\n",
        "4. Calcule soma total de impostos apenas dos produtos de Categoria B\n",
        "\n"
      ],
      "metadata": {
        "id": "phAQ9uToB6pK"
      }
    },
    {
      "cell_type": "markdown",
      "source": [
        "<blockquote>1. Imposto de cada produto</blockquote>"
      ],
      "metadata": {
        "id": "oBTu_QwheES2"
      }
    },
    {
      "cell_type": "code",
      "source": [
        "def calculo_imposto(produtos):\n",
        "    list_impostos = list()\n",
        "    for produto in produtos:\n",
        "        if produto['Categoria'] == 'A':\n",
        "            list_impostos.append(produto['Valor'] * float(0.1))\n",
        "        else:\n",
        "            list_impostos.append(produto['Valor'] * float(0.2))\n",
        "    return list_impostos\n",
        "\n",
        "print(calculo_imposto(produtos))"
      ],
      "metadata": {
        "id": "QU0cr1X4C-c_",
        "outputId": "1181be5b-72fd-4a02-c1ae-922fb9079a68",
        "colab": {
          "base_uri": "https://localhost:8080/"
        }
      },
      "execution_count": 4,
      "outputs": [
        {
          "output_type": "stream",
          "name": "stdout",
          "text": [
            "[0.55, 1000.1, 1.55, 200.10000000000002]\n"
          ]
        }
      ]
    },
    {
      "cell_type": "markdown",
      "source": [
        "<blockquote>2. Soma total de impostos</blockquote>"
      ],
      "metadata": {
        "id": "H0QSsvQwfAH8"
      }
    },
    {
      "cell_type": "code",
      "source": [
        "print(sum(calculo_imposto(produtos)))"
      ],
      "metadata": {
        "id": "S5oxlViLfFG4",
        "outputId": "402e43f0-90eb-4e2f-f571-521d42599c4f",
        "colab": {
          "base_uri": "https://localhost:8080/"
        }
      },
      "execution_count": 5,
      "outputs": [
        {
          "output_type": "stream",
          "name": "stdout",
          "text": [
            "1202.3\n"
          ]
        }
      ]
    },
    {
      "cell_type": "markdown",
      "source": [
        "<blockquote>3. Impostos da Categoria B</blockquote>"
      ],
      "metadata": {
        "id": "Mk9iz44ufeqc"
      }
    },
    {
      "cell_type": "code",
      "source": [
        "def calculo_imposto_individual(cat, valor):\n",
        "    if cat == 'A':\n",
        "        return valor * float(0.1)\n",
        "    else:\n",
        "        return valor * float(0.2)\n",
        "\n",
        "impostos_b = [calculo_imposto_individual(produto['Categoria'], produto['Valor']) for produto in produtos if produto['Categoria'] == 'B']\n",
        "\n",
        "print(impostos_b)"
      ],
      "metadata": {
        "id": "475sINaSfMrb",
        "outputId": "9856b2ad-e8da-4d24-dc40-0f6c4b570c44",
        "colab": {
          "base_uri": "https://localhost:8080/"
        }
      },
      "execution_count": 6,
      "outputs": [
        {
          "output_type": "stream",
          "name": "stdout",
          "text": [
            "[1000.1, 200.10000000000002]\n"
          ]
        }
      ]
    },
    {
      "cell_type": "markdown",
      "source": [
        "<blockquote>4. Soma total de impostos da Categoria B</blockquote>"
      ],
      "metadata": {
        "id": "aYdXqfN5hEyU"
      }
    },
    {
      "cell_type": "code",
      "source": [
        "impostos_b = [calculo_imposto_individual(produto['Categoria'], produto['Valor']) for produto in produtos if produto['Categoria'] == 'B']\n",
        "\n",
        "print(sum(impostos_b))"
      ],
      "metadata": {
        "id": "xtiVUBI7gsx6",
        "outputId": "7fa0756c-be30-47c2-a618-abe8d6209e77",
        "colab": {
          "base_uri": "https://localhost:8080/"
        }
      },
      "execution_count": 7,
      "outputs": [
        {
          "output_type": "stream",
          "name": "stdout",
          "text": [
            "1200.2\n"
          ]
        }
      ]
    }
  ]
}
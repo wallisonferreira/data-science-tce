{
  "nbformat": 4,
  "nbformat_minor": 0,
  "metadata": {
    "colab": {
      "provenance": [],
      "include_colab_link": true
    },
    "kernelspec": {
      "name": "python3",
      "display_name": "Python 3"
    },
    "language_info": {
      "name": "python"
    }
  },
  "cells": [
    {
      "cell_type": "markdown",
      "metadata": {
        "id": "view-in-github",
        "colab_type": "text"
      },
      "source": [
        "<a href=\"https://colab.research.google.com/github/wallisonferreira/data-science-tce/blob/main/3_Adicionando_novas_classes_ou_novos_dados_notes_withnorun.ipynb\" target=\"_parent\"><img src=\"https://colab.research.google.com/assets/colab-badge.svg\" alt=\"Open In Colab\"/></a>"
      ]
    },
    {
      "cell_type": "markdown",
      "source": [
        "#Exemplo adicionando uma nova classe (com dados) e/ ou novos dados com classes existentes\n",
        "\n",
        "Agenda:\n",
        "- Carregar base\n",
        "- Montar modelo\n",
        "- Treinar modelo (modo simples para construção apenas)\n",
        "- Avaliar"
      ],
      "metadata": {
        "id": "IGGGirhidC7W"
      }
    },
    {
      "cell_type": "code",
      "source": [
        "!pip install livelossplot"
      ],
      "metadata": {
        "colab": {
          "base_uri": "https://localhost:8080/"
        },
        "id": "7B3BKZ1Edev6",
        "outputId": "fb545837-1024-4c5b-d1cb-770931db01e2"
      },
      "execution_count": null,
      "outputs": [
        {
          "output_type": "stream",
          "name": "stdout",
          "text": [
            "Collecting livelossplot\n",
            "  Downloading livelossplot-0.5.5-py3-none-any.whl (22 kB)\n",
            "Requirement already satisfied: matplotlib in /usr/local/lib/python3.10/dist-packages (from livelossplot) (3.7.1)\n",
            "Requirement already satisfied: bokeh in /usr/local/lib/python3.10/dist-packages (from livelossplot) (3.2.2)\n",
            "Requirement already satisfied: Jinja2>=2.9 in /usr/local/lib/python3.10/dist-packages (from bokeh->livelossplot) (3.1.2)\n",
            "Requirement already satisfied: contourpy>=1 in /usr/local/lib/python3.10/dist-packages (from bokeh->livelossplot) (1.1.0)\n",
            "Requirement already satisfied: numpy>=1.16 in /usr/local/lib/python3.10/dist-packages (from bokeh->livelossplot) (1.23.5)\n",
            "Requirement already satisfied: packaging>=16.8 in /usr/local/lib/python3.10/dist-packages (from bokeh->livelossplot) (23.1)\n",
            "Requirement already satisfied: pandas>=1.2 in /usr/local/lib/python3.10/dist-packages (from bokeh->livelossplot) (1.5.3)\n",
            "Requirement already satisfied: pillow>=7.1.0 in /usr/local/lib/python3.10/dist-packages (from bokeh->livelossplot) (9.4.0)\n",
            "Requirement already satisfied: PyYAML>=3.10 in /usr/local/lib/python3.10/dist-packages (from bokeh->livelossplot) (6.0.1)\n",
            "Requirement already satisfied: tornado>=5.1 in /usr/local/lib/python3.10/dist-packages (from bokeh->livelossplot) (6.3.2)\n",
            "Requirement already satisfied: xyzservices>=2021.09.1 in /usr/local/lib/python3.10/dist-packages (from bokeh->livelossplot) (2023.7.0)\n",
            "Requirement already satisfied: cycler>=0.10 in /usr/local/lib/python3.10/dist-packages (from matplotlib->livelossplot) (0.11.0)\n",
            "Requirement already satisfied: fonttools>=4.22.0 in /usr/local/lib/python3.10/dist-packages (from matplotlib->livelossplot) (4.42.1)\n",
            "Requirement already satisfied: kiwisolver>=1.0.1 in /usr/local/lib/python3.10/dist-packages (from matplotlib->livelossplot) (1.4.5)\n",
            "Requirement already satisfied: pyparsing>=2.3.1 in /usr/local/lib/python3.10/dist-packages (from matplotlib->livelossplot) (3.1.1)\n",
            "Requirement already satisfied: python-dateutil>=2.7 in /usr/local/lib/python3.10/dist-packages (from matplotlib->livelossplot) (2.8.2)\n",
            "Requirement already satisfied: MarkupSafe>=2.0 in /usr/local/lib/python3.10/dist-packages (from Jinja2>=2.9->bokeh->livelossplot) (2.1.3)\n",
            "Requirement already satisfied: pytz>=2020.1 in /usr/local/lib/python3.10/dist-packages (from pandas>=1.2->bokeh->livelossplot) (2023.3.post1)\n",
            "Requirement already satisfied: six>=1.5 in /usr/local/lib/python3.10/dist-packages (from python-dateutil>=2.7->matplotlib->livelossplot) (1.16.0)\n",
            "Installing collected packages: livelossplot\n",
            "Successfully installed livelossplot-0.5.5\n"
          ]
        }
      ]
    },
    {
      "cell_type": "code",
      "execution_count": null,
      "metadata": {
        "id": "8HCPZTjlc8uK"
      },
      "outputs": [],
      "source": [
        "#keras\n",
        "import tensorflow as tf\n",
        "import tensorflow.keras as keras\n",
        "from tensorflow.keras import layers\n",
        "from tensorflow.keras.utils import plot_model\n",
        "from tensorflow.keras.utils import to_categorical\n",
        "\n",
        "#utilitários\n",
        "import pandas as pd\n",
        "import numpy as np\n",
        "import random\n",
        "import seaborn as sns\n",
        "\n",
        "#sklearn\n",
        "import sklearn as sk\n",
        "from sklearn.preprocessing import normalize\n",
        "from sklearn.model_selection import train_test_split\n",
        "from sklearn.metrics import classification_report, confusion_matrix, recall_score, precision_score, f1_score\n",
        "from livelossplot import PlotLossesKeras\n",
        "\n"
      ]
    },
    {
      "cell_type": "code",
      "source": [
        "#1) carregando dataset\n",
        "from sklearn.datasets import load_iris\n",
        "data = load_iris()\n",
        "y = data['target']\n",
        "x = data['data']"
      ],
      "metadata": {
        "id": "DmPyXFoQdnIc"
      },
      "execution_count": null,
      "outputs": []
    },
    {
      "cell_type": "code",
      "source": [
        "#remover uma classe\n",
        "y_2 = y[0:100]\n",
        "x_2 = x[0:100,:]"
      ],
      "metadata": {
        "id": "8p3zknZKfTzD"
      },
      "execution_count": null,
      "outputs": []
    },
    {
      "cell_type": "code",
      "source": [
        "#para converter no formato one hot\n",
        "y_2 = to_categorical(y_2, num_classes=2)"
      ],
      "metadata": {
        "id": "SpUqDW5ygtnV"
      },
      "execution_count": null,
      "outputs": []
    },
    {
      "cell_type": "code",
      "source": [
        "#criando modelo da rede\n",
        "def construirModelo(input_shape):\n",
        "  model = keras.Sequential(\n",
        "      [layers.Input(shape= input_shape),\n",
        "       layers.Dense(32, activation='relu'),\n",
        "       layers.Dense(32, activation='relu'),\n",
        "       layers.Dense(2, activation='softmax')\n",
        "      ]\n",
        "  )\n",
        "\n",
        "  #especificar: otimizador e função de custo\n",
        "  model.compile(\"adam\", \"categorical_crossentropy\",\n",
        "                metrics=[\n",
        "                    keras.metrics.Accuracy(name='accuracy')],\n",
        "                )\n",
        "  return model\n"
      ],
      "metadata": {
        "id": "c4-bt43tfj3o"
      },
      "execution_count": null,
      "outputs": []
    },
    {
      "cell_type": "code",
      "source": [
        "#rodando um fit com o modelo\n",
        "#TODO: lembrar que depois o exemplo deve ser expandido para realizar o experimento corretamente\n",
        "batch_size = 8\n",
        "epochs = 10\n",
        "\n",
        "model = construirModelo(x_2.shape[1])\n",
        "#plot_model(model, show_shapes=True)\n",
        "\n",
        "x_train, x_test, y_train, y_test = train_test_split(x_2, y_2,\n",
        "                                                      train_size=0.8,\n",
        "                                                      random_state = random.randint(1, 1000))\n",
        "H = model.fit(\n",
        "      x_train,\n",
        "      y_train,\n",
        "      batch_size= batch_size,\n",
        "      epochs = epochs,\n",
        "      #callbacks=[PlotLossesKeras()], #plotando gráficos\n",
        "      validation_split = 0.2)\n",
        "\n",
        "y_pred = model.predict(x_test)\n",
        "matrix = confusion_matrix(np.argmax(y_test, axis=1), np.argmax(y_pred, axis=1))\n",
        "sns.heatmap(matrix, cmap='Blues', annot=True)\n"
      ],
      "metadata": {
        "colab": {
          "base_uri": "https://localhost:8080/",
          "height": 827
        },
        "id": "o6bMxeXwf3uj",
        "outputId": "c3dd5d29-ee13-4c83-9abe-cdff382ef11f"
      },
      "execution_count": null,
      "outputs": [
        {
          "output_type": "stream",
          "name": "stdout",
          "text": [
            "Epoch 1/10\n",
            "8/8 [==============================] - 1s 37ms/step - loss: 1.0238 - accuracy: 0.0000e+00 - val_loss: 0.4819 - val_accuracy: 0.0000e+00\n",
            "Epoch 2/10\n",
            "8/8 [==============================] - 0s 12ms/step - loss: 0.5706 - accuracy: 0.0000e+00 - val_loss: 0.3456 - val_accuracy: 0.0000e+00\n",
            "Epoch 3/10\n",
            "8/8 [==============================] - 0s 11ms/step - loss: 0.3396 - accuracy: 0.0000e+00 - val_loss: 0.3199 - val_accuracy: 0.0000e+00\n",
            "Epoch 4/10\n",
            "8/8 [==============================] - 0s 11ms/step - loss: 0.2764 - accuracy: 0.0000e+00 - val_loss: 0.3269 - val_accuracy: 0.0000e+00\n",
            "Epoch 5/10\n",
            "8/8 [==============================] - 0s 9ms/step - loss: 0.2467 - accuracy: 0.0000e+00 - val_loss: 0.3038 - val_accuracy: 0.0000e+00\n",
            "Epoch 6/10\n",
            "8/8 [==============================] - 0s 11ms/step - loss: 0.2162 - accuracy: 0.0000e+00 - val_loss: 0.2623 - val_accuracy: 0.0000e+00\n",
            "Epoch 7/10\n",
            "8/8 [==============================] - 0s 11ms/step - loss: 0.1870 - accuracy: 0.0000e+00 - val_loss: 0.2226 - val_accuracy: 0.0000e+00\n",
            "Epoch 8/10\n",
            "8/8 [==============================] - 0s 11ms/step - loss: 0.1660 - accuracy: 0.0000e+00 - val_loss: 0.1931 - val_accuracy: 0.0000e+00\n",
            "Epoch 9/10\n",
            "8/8 [==============================] - 0s 11ms/step - loss: 0.1459 - accuracy: 0.0000e+00 - val_loss: 0.1736 - val_accuracy: 0.0000e+00\n",
            "Epoch 10/10\n",
            "8/8 [==============================] - 0s 9ms/step - loss: 0.1282 - accuracy: 0.0000e+00 - val_loss: 0.1563 - val_accuracy: 0.0000e+00\n",
            "1/1 [==============================] - 0s 95ms/step\n"
          ]
        },
        {
          "output_type": "execute_result",
          "data": {
            "text/plain": [
              "<Axes: >"
            ]
          },
          "metadata": {},
          "execution_count": 106
        },
        {
          "output_type": "display_data",
          "data": {
            "text/plain": [
              "<Figure size 640x480 with 2 Axes>"
            ],
            "image/png": "[encoded data removed]"
          },
          "metadata": {}
        }
      ]
    },
    {
      "cell_type": "markdown",
      "source": [
        "##Adicionando uma nova classe ao modelo\n",
        " - Por tabela, também está adicionando novos dados\n",
        "\n",
        " - Essa adição poderia ser coordenada\n",
        "   - Escolher adicionar apenas novos indivíduos\n",
        "   - ou passar para o modelo os novos dados misturados com os antigos"
      ],
      "metadata": {
        "id": "CQWVvNDnh8sy"
      }
    },
    {
      "cell_type": "code",
      "source": [
        "#retirando a última camada por ser um classificador apenas de duas classes\n",
        "def construirModeloNovo(input_shape, modelo_anterior):\n",
        "  #modelo base sem a última camada, classificador (ativação + dense)\n",
        "  base = keras.Model(modelo_anterior.input, model.layers[-2].output)\n",
        "\n",
        "  #criando um novo modelo\n",
        "  modelo_novo = keras.Sequential([\n",
        "      base, #pre treinado\n",
        "      layers.Dense(3, activation='softmax')]) #adicionando nova camada para classificação em 3 classes\n",
        "\n",
        "  #se quiser congelar a rede anterior\n",
        "  #for layer in base.layers:\n",
        "  #  layer.trainable = False\n",
        "\n",
        "  #especificar: otimizador e função de custo\n",
        "  modelo_novo.compile(\"adam\", \"categorical_crossentropy\",\n",
        "                metrics=[\n",
        "                    keras.metrics.Accuracy(name='accuracy')],\n",
        "                )\n",
        "\n",
        "  return modelo_novo\n",
        "\n",
        "model_novo = construirModeloNovo(x.shape[1], model)\n",
        "plot_model(model_novo, show_shapes=True)"
      ],
      "metadata": {
        "colab": {
          "base_uri": "https://localhost:8080/",
          "height": 312
        },
        "id": "DBswMz7ph4lH",
        "outputId": "2b1ba6e9-6bd2-45d2-9556-20273486e76b"
      },
      "execution_count": null,
      "outputs": [
        {
          "output_type": "execute_result",
          "data": {
            "image/png": "[encoded data removed]",
            "text/plain": [
              "<IPython.core.display.Image object>"
            ]
          },
          "metadata": {},
          "execution_count": 119
        }
      ]
    },
    {
      "cell_type": "code",
      "source": [
        "batch_size = 8\n",
        "epochs = 30\n",
        "y_3 = to_categorical(y, num_classes=3)\n",
        "model_novo = construirModeloNovo(x.shape[1], model)\n",
        "\n",
        "#TODO: poderia passar inicialmente só a nova classe\n",
        "x_train, x_test, y_train, y_test = train_test_split(x, y_3,\n",
        "                                                      train_size=0.8,\n",
        "                                                      random_state = random.randint(1, 1000))\n",
        "H = model_novo.fit(\n",
        "      x_train,\n",
        "      y_train,\n",
        "      batch_size= batch_size,\n",
        "      epochs = epochs,\n",
        "      #callbacks=[PlotLossesKeras()], #plotando gráficos\n",
        "      validation_split = 0.2)\n",
        "\n",
        "y_pred = model_novo.predict(x_test)\n",
        "matrix = confusion_matrix(np.argmax(y_test, axis=1), np.argmax(y_pred, axis=1))\n",
        "sns.heatmap(matrix, cmap='Blues', annot=True)\n",
        "\n"
      ],
      "metadata": {
        "colab": {
          "base_uri": "https://localhost:8080/",
          "height": 1000
        },
        "id": "gMoxvIHejyT7",
        "outputId": "27a27279-ce61-4582-da04-af65518fd2c5"
      },
      "execution_count": null,
      "outputs": [
        {
          "output_type": "stream",
          "name": "stdout",
          "text": [
            "Epoch 1/30\n",
            "12/12 [==============================] - 1s 22ms/step - loss: 1.4028 - accuracy: 0.0000e+00 - val_loss: 1.2277 - val_accuracy: 0.0000e+00\n",
            "Epoch 2/30\n",
            "12/12 [==============================] - 0s 7ms/step - loss: 1.2690 - accuracy: 0.0000e+00 - val_loss: 1.1404 - val_accuracy: 0.0000e+00\n",
            "Epoch 3/30\n",
            "12/12 [==============================] - 0s 6ms/step - loss: 1.1528 - accuracy: 0.0000e+00 - val_loss: 1.0793 - val_accuracy: 0.0000e+00\n",
            "Epoch 4/30\n",
            "12/12 [==============================] - 0s 7ms/step - loss: 1.0734 - accuracy: 0.0000e+00 - val_loss: 1.0332 - val_accuracy: 0.0000e+00\n",
            "Epoch 5/30\n",
            "12/12 [==============================] - 0s 6ms/step - loss: 1.0082 - accuracy: 0.0000e+00 - val_loss: 0.9978 - val_accuracy: 0.0000e+00\n",
            "Epoch 6/30\n",
            "12/12 [==============================] - 0s 7ms/step - loss: 0.9623 - accuracy: 0.0000e+00 - val_loss: 0.9691 - val_accuracy: 0.0000e+00\n",
            "Epoch 7/30\n",
            "12/12 [==============================] - 0s 6ms/step - loss: 0.9243 - accuracy: 0.0000e+00 - val_loss: 0.9421 - val_accuracy: 0.0000e+00\n",
            "Epoch 8/30\n",
            "12/12 [==============================] - 0s 5ms/step - loss: 0.8935 - accuracy: 0.0000e+00 - val_loss: 0.9174 - val_accuracy: 0.0000e+00\n",
            "Epoch 9/30\n",
            "12/12 [==============================] - 0s 6ms/step - loss: 0.8669 - accuracy: 0.0000e+00 - val_loss: 0.8940 - val_accuracy: 0.0000e+00\n",
            "Epoch 10/30\n",
            "12/12 [==============================] - 0s 6ms/step - loss: 0.8433 - accuracy: 0.0000e+00 - val_loss: 0.8734 - val_accuracy: 0.0000e+00\n",
            "Epoch 11/30\n",
            "12/12 [==============================] - 0s 5ms/step - loss: 0.8210 - accuracy: 0.0000e+00 - val_loss: 0.8530 - val_accuracy: 0.0000e+00\n",
            "Epoch 12/30\n",
            "12/12 [==============================] - 0s 7ms/step - loss: 0.8018 - accuracy: 0.0000e+00 - val_loss: 0.8343 - val_accuracy: 0.0000e+00\n",
            "Epoch 13/30\n",
            "12/12 [==============================] - 0s 5ms/step - loss: 0.7821 - accuracy: 0.0000e+00 - val_loss: 0.8138 - val_accuracy: 0.0000e+00\n",
            "Epoch 14/30\n",
            "12/12 [==============================] - 0s 7ms/step - loss: 0.7654 - accuracy: 0.0000e+00 - val_loss: 0.7934 - val_accuracy: 0.0000e+00\n",
            "Epoch 15/30\n",
            "12/12 [==============================] - 0s 7ms/step - loss: 0.7487 - accuracy: 0.0000e+00 - val_loss: 0.7746 - val_accuracy: 0.0000e+00\n",
            "Epoch 16/30\n",
            "12/12 [==============================] - 0s 7ms/step - loss: 0.7354 - accuracy: 0.0000e+00 - val_loss: 0.7603 - val_accuracy: 0.0000e+00\n",
            "Epoch 17/30\n",
            "12/12 [==============================] - 0s 7ms/step - loss: 0.7183 - accuracy: 0.0000e+00 - val_loss: 0.7429 - val_accuracy: 0.0000e+00\n",
            "Epoch 18/30\n",
            "12/12 [==============================] - 0s 6ms/step - loss: 0.7052 - accuracy: 0.0000e+00 - val_loss: 0.7258 - val_accuracy: 0.0000e+00\n",
            "Epoch 19/30\n",
            "12/12 [==============================] - 0s 5ms/step - loss: 0.6918 - accuracy: 0.0000e+00 - val_loss: 0.7132 - val_accuracy: 0.0000e+00\n",
            "Epoch 20/30\n",
            "12/12 [==============================] - 0s 7ms/step - loss: 0.6798 - accuracy: 0.0000e+00 - val_loss: 0.6984 - val_accuracy: 0.0000e+00\n",
            "Epoch 21/30\n",
            "12/12 [==============================] - 0s 6ms/step - loss: 0.6686 - accuracy: 0.0000e+00 - val_loss: 0.6879 - val_accuracy: 0.0000e+00\n",
            "Epoch 22/30\n",
            "12/12 [==============================] - 0s 7ms/step - loss: 0.6585 - accuracy: 0.0000e+00 - val_loss: 0.6717 - val_accuracy: 0.0000e+00\n",
            "Epoch 23/30\n",
            "12/12 [==============================] - 0s 6ms/step - loss: 0.6467 - accuracy: 0.0000e+00 - val_loss: 0.6626 - val_accuracy: 0.0000e+00\n",
            "Epoch 24/30\n",
            "12/12 [==============================] - 0s 6ms/step - loss: 0.6400 - accuracy: 0.0000e+00 - val_loss: 0.6488 - val_accuracy: 0.0000e+00\n",
            "Epoch 25/30\n",
            "12/12 [==============================] - 0s 6ms/step - loss: 0.6284 - accuracy: 0.0000e+00 - val_loss: 0.6408 - val_accuracy: 0.0000e+00\n",
            "Epoch 26/30\n",
            "12/12 [==============================] - 0s 5ms/step - loss: 0.6203 - accuracy: 0.0000e+00 - val_loss: 0.6353 - val_accuracy: 0.0000e+00\n",
            "Epoch 27/30\n",
            "12/12 [==============================] - 0s 6ms/step - loss: 0.6119 - accuracy: 0.0000e+00 - val_loss: 0.6253 - val_accuracy: 0.0000e+00\n",
            "Epoch 28/30\n",
            "12/12 [==============================] - 0s 7ms/step - loss: 0.6033 - accuracy: 0.0000e+00 - val_loss: 0.6146 - val_accuracy: 0.0000e+00\n",
            "Epoch 29/30\n",
            "12/12 [==============================] - 0s 6ms/step - loss: 0.5957 - accuracy: 0.0000e+00 - val_loss: 0.6055 - val_accuracy: 0.0000e+00\n",
            "Epoch 30/30\n",
            "12/12 [==============================] - 0s 7ms/step - loss: 0.5888 - accuracy: 0.0000e+00 - val_loss: 0.5971 - val_accuracy: 0.0000e+00\n",
            "1/1 [==============================] - 0s 69ms/step\n"
          ]
        },
        {
          "output_type": "execute_result",
          "data": {
            "text/plain": [
              "<Axes: >"
            ]
          },
          "metadata": {},
          "execution_count": 120
        },
        {
          "output_type": "display_data",
          "data": {
            "text/plain": [
              "<Figure size 640x480 with 2 Axes>"
            ],
            "image/png": "[encoded data removed]"
          },
          "metadata": {}
        }
      ]
    }
  ]
}
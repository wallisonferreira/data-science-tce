{
  "nbformat": 4,
  "nbformat_minor": 0,
  "metadata": {
    "colab": {
      "provenance": [],
      "include_colab_link": true
    },
    "kernelspec": {
      "name": "python3",
      "display_name": "Python 3"
    },
    "language_info": {
      "name": "python"
    }
  },
  "cells": [
    {
      "cell_type": "markdown",
      "metadata": {
        "id": "view-in-github",
        "colab_type": "text"
      },
      "source": [
        "<a href=\"https://colab.research.google.com/github/wallisonferreira/data-science-tce/blob/main/aula8_ex1_Ensemble_notes.ipynb\" target=\"_parent\"><img src=\"https://colab.research.google.com/assets/colab-badge.svg\" alt=\"Open In Colab\"/></a>"
      ]
    },
    {
      "cell_type": "markdown",
      "source": [
        "# Combinando predição com Ensemble\n",
        "\n",
        "Nesta aula apresentarei os três métodos mais populares para combinação de diferentes modelos de predição\n",
        "\n",
        "*   **Bagging**: Constrói vários modelos (normalmente do mesmo tipo) a partir de diferentes subamostras do conjunto de dados de treinamento.\n",
        "*   **Boosting**: Constrói vários modelos (normalmente do mesmo tipo), cada um dos quais aprende a corrigir os erros de previsão de um modelo anterior na sequência de modelos.\n",
        "*   **Voting**: Os vários modelos construídos (normalmente de diferentes tipos) e estatísticas simples (como calcular a média) são usadas para combinar previsões.\n",
        "\n"
      ],
      "metadata": {
        "id": "9ZqzmOfuzg4b"
      }
    },
    {
      "cell_type": "code",
      "source": [],
      "metadata": {
        "id": "ugqbVS_gsAV7"
      },
      "execution_count": null,
      "outputs": []
    },
    {
      "cell_type": "markdown",
      "source": [
        "# Algoritmo Bagging\n",
        "\n",
        "A agregação de bootstrap (ou Bagging) envolve a coleta de várias amostras do conjunto de dados de treinamento (com substituição) e o treinamento de um modelo para cada amostra.\n",
        "A previsão de saída final é calculada em média entre as previsões de todos os submodelos. Os três modelos bagging abordados são:\n",
        "\n",
        "*   Bagged Decision Trees\n",
        "*   Random Forest\n",
        "*   Extra Trees"
      ],
      "metadata": {
        "id": "BozR2z2dydkm"
      }
    },
    {
      "cell_type": "markdown",
      "source": [
        "## Bagged Decision Trees"
      ],
      "metadata": {
        "id": "ixeR1xFdzCo1"
      }
    },
    {
      "cell_type": "code",
      "source": [
        "# Classificação usando Bagged Decision Trees\n",
        "# Load dataset\n",
        "from pandas import read_csv\n",
        "from sklearn.model_selection import StratifiedKFold\n",
        "from sklearn.model_selection import cross_val_score\n",
        "from sklearn.ensemble import BaggingClassifier\n",
        "from sklearn.tree import DecisionTreeClassifier\n",
        "\n",
        "#filename = 'https://raw.githubusercontent.com/dr-riz/diabetes/master/diabetes.csv'\n",
        "filename = 'https://raw.githubusercontent.com/npradaschnor/Pima-Indians-Diabetes-Dataset/master/diabetes.csv'\n",
        "names = ['preg', 'plas', 'pres', 'skin', 'test', 'mass', 'pedi', 'age', 'class']\n",
        "df = read_csv(filename, header=None, names=names)\n",
        "\n",
        "#removendo a primeira linha que contém os cabeçalho no arquivo\n",
        "df = df.drop(labels=0, axis=0)\n",
        "\n",
        "array = df.values\n",
        "print(df)\n",
        "\n"
      ],
      "metadata": {
        "colab": {
          "base_uri": "https://localhost:8080/"
        },
        "id": "5YJ5l-NRzJAr",
        "outputId": "c6628c01-c789-48e4-fa05-d1c44155c3d5"
      },
      "execution_count": 1,
      "outputs": [
        {
          "output_type": "stream",
          "name": "stdout",
          "text": [
            "    preg plas pres skin test  mass   pedi age class\n",
            "1      6  148   72   35    0  33.6  0.627  50     1\n",
            "2      1   85   66   29    0  26.6  0.351  31     0\n",
            "3      8  183   64    0    0  23.3  0.672  32     1\n",
            "4      1   89   66   23   94  28.1  0.167  21     0\n",
            "5      0  137   40   35  168  43.1  2.288  33     1\n",
            "..   ...  ...  ...  ...  ...   ...    ...  ..   ...\n",
            "764   10  101   76   48  180  32.9  0.171  63     0\n",
            "765    2  122   70   27    0  36.8   0.34  27     0\n",
            "766    5  121   72   23  112  26.2  0.245  30     0\n",
            "767    1  126   60    0    0  30.1  0.349  47     1\n",
            "768    1   93   70   31    0  30.4  0.315  23     0\n",
            "\n",
            "[768 rows x 9 columns]\n"
          ]
        }
      ]
    },
    {
      "cell_type": "code",
      "source": [
        "df.info()"
      ],
      "metadata": {
        "colab": {
          "base_uri": "https://localhost:8080/"
        },
        "id": "CAF0u-WpXZ1M",
        "outputId": "e6026bae-538a-4516-fb17-8ae7d0391b54"
      },
      "execution_count": null,
      "outputs": [
        {
          "output_type": "stream",
          "name": "stdout",
          "text": [
            "<class 'pandas.core.frame.DataFrame'>\n",
            "Int64Index: 768 entries, 1 to 768\n",
            "Data columns (total 9 columns):\n",
            " #   Column  Non-Null Count  Dtype \n",
            "---  ------  --------------  ----- \n",
            " 0   preg    768 non-null    object\n",
            " 1   plas    768 non-null    object\n",
            " 2   pres    768 non-null    object\n",
            " 3   skin    768 non-null    object\n",
            " 4   test    768 non-null    object\n",
            " 5   mass    768 non-null    object\n",
            " 6   pedi    768 non-null    object\n",
            " 7   age     768 non-null    object\n",
            " 8   class   768 non-null    object\n",
            "dtypes: object(9)\n",
            "memory usage: 60.0+ KB\n"
          ]
        }
      ]
    },
    {
      "cell_type": "code",
      "source": [
        "df.describe()"
      ],
      "metadata": {
        "colab": {
          "base_uri": "https://localhost:8080/",
          "height": 193
        },
        "id": "dVExuiPpYDd9",
        "outputId": "53d1587b-b51c-4adb-e1d4-46c499662fca"
      },
      "execution_count": null,
      "outputs": [
        {
          "output_type": "execute_result",
          "data": {
            "text/plain": [
              "       preg plas pres skin test mass   pedi  age class\n",
              "count   768  768  768  768  768  768    768  768   768\n",
              "unique   17  136   47   51  186  248    517   52     2\n",
              "top       1   99   70    0    0   32  0.258   22     0\n",
              "freq    135   17   57  227  374   13      6   72   500"
            ],
            "text/html": [
              "\n",
              "  <div id=\"df-52130aa7-6fd4-442e-ae76-208fdcade13f\">\n",
              "    <div class=\"colab-df-container\">\n",
              "      <div>\n",
              "<style scoped>\n",
              "    .dataframe tbody tr th:only-of-type {\n",
              "        vertical-align: middle;\n",
              "    }\n",
              "\n",
              "    .dataframe tbody tr th {\n",
              "        vertical-align: top;\n",
              "    }\n",
              "\n",
              "    .dataframe thead th {\n",
              "        text-align: right;\n",
              "    }\n",
              "</style>\n",
              "<table border=\"1\" class=\"dataframe\">\n",
              "  <thead>\n",
              "    <tr style=\"text-align: right;\">\n",
              "      <th></th>\n",
              "      <th>preg</th>\n",
              "      <th>plas</th>\n",
              "      <th>pres</th>\n",
              "      <th>skin</th>\n",
              "      <th>test</th>\n",
              "      <th>mass</th>\n",
              "      <th>pedi</th>\n",
              "      <th>age</th>\n",
              "      <th>class</th>\n",
              "    </tr>\n",
              "  </thead>\n",
              "  <tbody>\n",
              "    <tr>\n",
              "      <th>count</th>\n",
              "      <td>768</td>\n",
              "      <td>768</td>\n",
              "      <td>768</td>\n",
              "      <td>768</td>\n",
              "      <td>768</td>\n",
              "      <td>768</td>\n",
              "      <td>768</td>\n",
              "      <td>768</td>\n",
              "      <td>768</td>\n",
              "    </tr>\n",
              "    <tr>\n",
              "      <th>unique</th>\n",
              "      <td>17</td>\n",
              "      <td>136</td>\n",
              "      <td>47</td>\n",
              "      <td>51</td>\n",
              "      <td>186</td>\n",
              "      <td>248</td>\n",
              "      <td>517</td>\n",
              "      <td>52</td>\n",
              "      <td>2</td>\n",
              "    </tr>\n",
              "    <tr>\n",
              "      <th>top</th>\n",
              "      <td>1</td>\n",
              "      <td>99</td>\n",
              "      <td>70</td>\n",
              "      <td>0</td>\n",
              "      <td>0</td>\n",
              "      <td>32</td>\n",
              "      <td>0.258</td>\n",
              "      <td>22</td>\n",
              "      <td>0</td>\n",
              "    </tr>\n",
              "    <tr>\n",
              "      <th>freq</th>\n",
              "      <td>135</td>\n",
              "      <td>17</td>\n",
              "      <td>57</td>\n",
              "      <td>227</td>\n",
              "      <td>374</td>\n",
              "      <td>13</td>\n",
              "      <td>6</td>\n",
              "      <td>72</td>\n",
              "      <td>500</td>\n",
              "    </tr>\n",
              "  </tbody>\n",
              "</table>\n",
              "</div>\n",
              "      <button class=\"colab-df-convert\" onclick=\"convertToInteractive('df-52130aa7-6fd4-442e-ae76-208fdcade13f')\"\n",
              "              title=\"Convert this dataframe to an interactive table.\"\n",
              "              style=\"display:none;\">\n",
              "        \n",
              "  <svg xmlns=\"http://www.w3.org/2000/svg\" height=\"24px\"viewBox=\"0 0 24 24\"\n",
              "       width=\"24px\">\n",
              "    <path d=\"M0 0h24v24H0V0z\" fill=\"none\"/>\n",
              "    <path d=\"M18.56 5.44l.94 2.06.94-2.06 2.06-.94-2.06-.94-.94-2.06-.94 2.06-2.06.94zm-11 1L8.5 8.5l.94-2.06 2.06-.94-2.06-.94L8.5 2.5l-.94 2.06-2.06.94zm10 10l.94 2.06.94-2.06 2.06-.94-2.06-.94-.94-2.06-.94 2.06-2.06.94z\"/><path d=\"M17.41 7.96l-1.37-1.37c-.4-.4-.92-.59-1.43-.59-.52 0-1.04.2-1.43.59L10.3 9.45l-7.72 7.72c-.78.78-.78 2.05 0 2.83L4 21.41c.39.39.9.59 1.41.59.51 0 1.02-.2 1.41-.59l7.78-7.78 2.81-2.81c.8-.78.8-2.07 0-2.86zM5.41 20L4 18.59l7.72-7.72 1.47 1.35L5.41 20z\"/>\n",
              "  </svg>\n",
              "      </button>\n",
              "      \n",
              "  <style>\n",
              "    .colab-df-container {\n",
              "      display:flex;\n",
              "      flex-wrap:wrap;\n",
              "      gap: 12px;\n",
              "    }\n",
              "\n",
              "    .colab-df-convert {\n",
              "      background-color: #E8F0FE;\n",
              "      border: none;\n",
              "      border-radius: 50%;\n",
              "      cursor: pointer;\n",
              "      display: none;\n",
              "      fill: #1967D2;\n",
              "      height: 32px;\n",
              "      padding: 0 0 0 0;\n",
              "      width: 32px;\n",
              "    }\n",
              "\n",
              "    .colab-df-convert:hover {\n",
              "      background-color: #E2EBFA;\n",
              "      box-shadow: 0px 1px 2px rgba(60, 64, 67, 0.3), 0px 1px 3px 1px rgba(60, 64, 67, 0.15);\n",
              "      fill: #174EA6;\n",
              "    }\n",
              "\n",
              "    [theme=dark] .colab-df-convert {\n",
              "      background-color: #3B4455;\n",
              "      fill: #D2E3FC;\n",
              "    }\n",
              "\n",
              "    [theme=dark] .colab-df-convert:hover {\n",
              "      background-color: #434B5C;\n",
              "      box-shadow: 0px 1px 3px 1px rgba(0, 0, 0, 0.15);\n",
              "      filter: drop-shadow(0px 1px 2px rgba(0, 0, 0, 0.3));\n",
              "      fill: #FFFFFF;\n",
              "    }\n",
              "  </style>\n",
              "\n",
              "      <script>\n",
              "        const buttonEl =\n",
              "          document.querySelector('#df-52130aa7-6fd4-442e-ae76-208fdcade13f button.colab-df-convert');\n",
              "        buttonEl.style.display =\n",
              "          google.colab.kernel.accessAllowed ? 'block' : 'none';\n",
              "\n",
              "        async function convertToInteractive(key) {\n",
              "          const element = document.querySelector('#df-52130aa7-6fd4-442e-ae76-208fdcade13f');\n",
              "          const dataTable =\n",
              "            await google.colab.kernel.invokeFunction('convertToInteractive',\n",
              "                                                     [key], {});\n",
              "          if (!dataTable) return;\n",
              "\n",
              "          const docLinkHtml = 'Like what you see? Visit the ' +\n",
              "            '<a target=\"_blank\" href=https://colab.research.google.com/notebooks/data_table.ipynb>data table notebook</a>'\n",
              "            + ' to learn more about interactive tables.';\n",
              "          element.innerHTML = '';\n",
              "          dataTable['output_type'] = 'display_data';\n",
              "          await google.colab.output.renderOutput(dataTable, element);\n",
              "          const docLink = document.createElement('div');\n",
              "          docLink.innerHTML = docLinkHtml;\n",
              "          element.appendChild(docLink);\n",
              "        }\n",
              "      </script>\n",
              "    </div>\n",
              "  </div>\n",
              "  "
            ]
          },
          "metadata": {},
          "execution_count": 4
        }
      ]
    },
    {
      "cell_type": "code",
      "source": [
        "from sklearn.neighbors import KNeighborsClassifier\n",
        "\n",
        "X = array[:,0:8]\n",
        "Y = array[:,8]\n",
        "seed = 7\n",
        "kfold = StratifiedKFold(n_splits=10, random_state=None)\n",
        "#cart = DecisionTreeClassifier()\n",
        "knn = KNeighborsClassifier(n_neighbors=21)\n",
        "num_trees = 200\n",
        "model = BaggingClassifier(base_estimator=knn, n_estimators=num_trees, random_state=seed)\n",
        "results = cross_val_score(model, X, Y, cv=kfold)\n",
        "print(results.mean())"
      ],
      "metadata": {
        "colab": {
          "base_uri": "https://localhost:8080/"
        },
        "id": "0Q-BRRxQ18Hl",
        "outputId": "250fd9f2-9535-446a-bb32-c61ba682c8cf"
      },
      "execution_count": 2,
      "outputs": [
        {
          "output_type": "stream",
          "name": "stderr",
          "text": [
            "/usr/local/lib/python3.10/dist-packages/sklearn/ensemble/_base.py:166: FutureWarning: `base_estimator` was renamed to `estimator` in version 1.2 and will be removed in 1.4.\n",
            "  warnings.warn(\n",
            "/usr/local/lib/python3.10/dist-packages/sklearn/ensemble/_base.py:166: FutureWarning: `base_estimator` was renamed to `estimator` in version 1.2 and will be removed in 1.4.\n",
            "  warnings.warn(\n",
            "/usr/local/lib/python3.10/dist-packages/sklearn/ensemble/_base.py:166: FutureWarning: `base_estimator` was renamed to `estimator` in version 1.2 and will be removed in 1.4.\n",
            "  warnings.warn(\n",
            "/usr/local/lib/python3.10/dist-packages/sklearn/ensemble/_base.py:166: FutureWarning: `base_estimator` was renamed to `estimator` in version 1.2 and will be removed in 1.4.\n",
            "  warnings.warn(\n",
            "/usr/local/lib/python3.10/dist-packages/sklearn/ensemble/_base.py:166: FutureWarning: `base_estimator` was renamed to `estimator` in version 1.2 and will be removed in 1.4.\n",
            "  warnings.warn(\n",
            "/usr/local/lib/python3.10/dist-packages/sklearn/ensemble/_base.py:166: FutureWarning: `base_estimator` was renamed to `estimator` in version 1.2 and will be removed in 1.4.\n",
            "  warnings.warn(\n",
            "/usr/local/lib/python3.10/dist-packages/sklearn/ensemble/_base.py:166: FutureWarning: `base_estimator` was renamed to `estimator` in version 1.2 and will be removed in 1.4.\n",
            "  warnings.warn(\n",
            "/usr/local/lib/python3.10/dist-packages/sklearn/ensemble/_base.py:166: FutureWarning: `base_estimator` was renamed to `estimator` in version 1.2 and will be removed in 1.4.\n",
            "  warnings.warn(\n",
            "/usr/local/lib/python3.10/dist-packages/sklearn/ensemble/_base.py:166: FutureWarning: `base_estimator` was renamed to `estimator` in version 1.2 and will be removed in 1.4.\n",
            "  warnings.warn(\n",
            "/usr/local/lib/python3.10/dist-packages/sklearn/ensemble/_base.py:166: FutureWarning: `base_estimator` was renamed to `estimator` in version 1.2 and will be removed in 1.4.\n",
            "  warnings.warn(\n"
          ]
        },
        {
          "output_type": "stream",
          "name": "stdout",
          "text": [
            "0.7500683526999317\n"
          ]
        }
      ]
    },
    {
      "cell_type": "markdown",
      "source": [
        "## Random Forest\n",
        "\n",
        "Random Forest é uma extensão das árvores de decisão do tipo bagged. Amostras do conjunto de dados de treinamento são retiradas com substituição, mas as árvores são construídas de uma forma que reduz a correlação entre classificadores individuais. Especificamente, em vez de escolher gananciosamente o melhor ponto de divisão na construção de cada árvore, apenas um subconjunto aleatório das características é considerado para cada divisão."
      ],
      "metadata": {
        "id": "UGVCfp2h6Vfn"
      }
    },
    {
      "cell_type": "code",
      "source": [],
      "metadata": {
        "id": "IGWMAKjYuoxM"
      },
      "execution_count": null,
      "outputs": []
    },
    {
      "cell_type": "code",
      "source": [
        "# Random Forest Classification\n",
        "from pandas import read_csv\n",
        "from sklearn.model_selection import StratifiedKFold\n",
        "from sklearn.model_selection import cross_val_score\n",
        "from sklearn.ensemble import RandomForestClassifier\n",
        "\n",
        "\n",
        "#filename = 'https://raw.githubusercontent.com/dr-riz/diabetes/master/diabetes.csv'\n",
        "filename = 'https://raw.githubusercontent.com/npradaschnor/Pima-Indians-Diabetes-Dataset/master/diabetes.csv'\n",
        "names = ['preg', 'plas', 'pres', 'skin', 'test', 'mass', 'pedi', 'age', 'class']\n",
        "df = read_csv(filename, header=None, names=names)\n",
        "\n",
        "#removendo a primeira linha que contém os cabeçalho no arquivo\n",
        "df = df.drop(labels=0, axis=0)\n",
        "\n",
        "array = df.values\n",
        "X = array[:,0:8]\n",
        "Y = array[:,8]\n",
        "num_trees = 200\n",
        "max_features = 4\n",
        "kfold = StratifiedKFold(n_splits=10, random_state=None)\n",
        "model = RandomForestClassifier(n_estimators=num_trees, max_features=max_features)\n",
        "results = cross_val_score(model, X, Y, cv=kfold)\n",
        "print(results.mean())"
      ],
      "metadata": {
        "colab": {
          "base_uri": "https://localhost:8080/"
        },
        "id": "PuKOOL7T6Z-r",
        "outputId": "9eb99f7e-ff88-4636-906a-3f1d296f22e8"
      },
      "execution_count": 3,
      "outputs": [
        {
          "output_type": "stream",
          "name": "stdout",
          "text": [
            "0.772095010252905\n"
          ]
        }
      ]
    },
    {
      "cell_type": "markdown",
      "source": [
        "#Extra Trees\n",
        "\n",
        "Extra Tree é outra modificação de bagged em que árvores aleatórias são construídas a partir de amostras do conjunto de dados de treinamento. Você pode construir um modelo. O exemplo abaixo fornece uma demonstração de Extra trees com o número de árvores definido como 100 e divisões escolhidas entre 7 características aleatórias."
      ],
      "metadata": {
        "id": "_6r02kpbvJwp"
      }
    },
    {
      "cell_type": "code",
      "source": [
        "# Extra Trees Classification\n",
        "from pandas import read_csv\n",
        "from sklearn.model_selection import StratifiedKFold\n",
        "from sklearn.model_selection import cross_val_score\n",
        "from sklearn.ensemble import ExtraTreesClassifier\n",
        "\n",
        "\n",
        "#filename = 'https://raw.githubusercontent.com/dr-riz/diabetes/master/diabetes.csv'\n",
        "filename = 'https://raw.githubusercontent.com/npradaschnor/Pima-Indians-Diabetes-Dataset/master/diabetes.csv'\n",
        "names = ['preg', 'plas', 'pres', 'skin', 'test', 'mass', 'pedi', 'age', 'class']\n",
        "df = read_csv(filename, header=None, names=names)\n",
        "\n",
        "#removendo a primeira linha que contém os cabeçalho no arquivo\n",
        "df = df.drop(labels=0, axis=0)\n",
        "\n",
        "array = df.values\n",
        "X = array[:,0:8]\n",
        "Y = array[:,8]\n",
        "num_trees = 200\n",
        "max_features = 7\n",
        "kfold = StratifiedKFold(n_splits=10, random_state=None)\n",
        "model = ExtraTreesClassifier(n_estimators=num_trees, max_features=max_features)\n",
        "results = cross_val_score(model, X, Y, cv=kfold)\n",
        "print(results.mean())"
      ],
      "metadata": {
        "colab": {
          "base_uri": "https://localhost:8080/"
        },
        "id": "ZtXBjTrjxNy9",
        "outputId": "81039be7-48db-4268-ef6f-70099ad4ca01"
      },
      "execution_count": 5,
      "outputs": [
        {
          "output_type": "stream",
          "name": "stdout",
          "text": [
            "0.7551606288448395\n"
          ]
        }
      ]
    },
    {
      "cell_type": "markdown",
      "source": [
        "#Algoritmo Boosting\n",
        "\n",
        "Algoritmos de Boosting criam uma sequência de modelos que tentam corrigir os erros dos modelos anteriores na sequência. Uma vez criados, os modelos fazem previsões que podem ser ponderados por sua precisão demonstrada e os resultados são combinados para criar uma previsão de saída final. Os dois algoritmos de aprendizado de máquina de Boosting Ensemble mais utilizados são:\n",
        "\n",
        "* Adaboost\n",
        "* Stochastic Gradient Boosting.\n"
      ],
      "metadata": {
        "id": "A6fI2nchxf1V"
      }
    },
    {
      "cell_type": "markdown",
      "source": [
        "# Adaboost\n",
        "\n",
        "O AdaBoost foi talvez o primeiro algoritmo de Boosting Esemble bem-sucedido. Geralmente, ele funciona ponderando as instâncias no conjunto de dados pela facilidade ou dificuldade de classificação, permitindo que o algoritmo preste atenção a elas na construção de modelos subsequentes. O exemplo abaixo demonstra a construção de 30 árvores de decisão em sequência usando o AdaBoost algoritmo."
      ],
      "metadata": {
        "id": "rEmd6k8yx8kq"
      }
    },
    {
      "cell_type": "code",
      "source": [
        "# Adaboost Classification\n",
        "from pandas import read_csv\n",
        "from sklearn.model_selection import StratifiedKFold\n",
        "from sklearn.model_selection import cross_val_score\n",
        "from sklearn.ensemble import AdaBoostClassifier\n",
        "\n",
        "\n",
        "#filename = 'https://raw.githubusercontent.com/dr-riz/diabetes/master/diabetes.csv'\n",
        "filename = 'https://raw.githubusercontent.com/npradaschnor/Pima-Indians-Diabetes-Dataset/master/diabetes.csv'\n",
        "names = ['preg', 'plas', 'pres', 'skin', 'test', 'mass', 'pedi', 'age', 'class']\n",
        "df = read_csv(filename, header=None, names=names)\n",
        "\n",
        "#removendo a primeira linha que contém os cabeçalho no arquivo\n",
        "df = df.drop(labels=0, axis=0)\n",
        "\n",
        "array = df.values\n",
        "X = array[:,0:8]\n",
        "Y = array[:,8]\n",
        "num_trees = 50\n",
        "seed = 7\n",
        "kfold = StratifiedKFold(n_splits=10, random_state=None)\n",
        "model = AdaBoostClassifier(n_estimators=num_trees, learning_rate=1, random_state=seed)\n",
        "results = cross_val_score(model, X, Y, cv=kfold)\n",
        "print(results.mean())"
      ],
      "metadata": {
        "colab": {
          "base_uri": "https://localhost:8080/"
        },
        "id": "wnLHEDd_yaee",
        "outputId": "ef1043d7-1201-48aa-c5e0-13b2c64eb0b5"
      },
      "execution_count": 6,
      "outputs": [
        {
          "output_type": "stream",
          "name": "stdout",
          "text": [
            "0.7552460697197538\n"
          ]
        }
      ]
    },
    {
      "cell_type": "markdown",
      "source": [
        "# Stochastic Gradient Boosting\n",
        "\n",
        "Stochastic Gradient Boosting (também chamado de Gradient Boosting) é uma das técnicas de conjunto mais sofisticadas. É também uma técnica que está provando ser talvez uma das melhores técnicas disponíveis para melhorar o desempenho por meio de esemble. O exemplo abaixo demonstra o Stochastic Gradient Boosting para classification com 50 árvores."
      ],
      "metadata": {
        "id": "cpyiRQ8Ay5nW"
      }
    },
    {
      "cell_type": "code",
      "source": [
        "# Stochastic Gradient Boosting\n",
        "from pandas import read_csv\n",
        "from sklearn.model_selection import StratifiedKFold\n",
        "from sklearn.model_selection import cross_val_score\n",
        "from sklearn.ensemble import GradientBoostingClassifier\n",
        "\n",
        "\n",
        "#filename = 'https://raw.githubusercontent.com/dr-riz/diabetes/master/diabetes.csv'\n",
        "filename = 'https://raw.githubusercontent.com/npradaschnor/Pima-Indians-Diabetes-Dataset/master/diabetes.csv'\n",
        "names = ['preg', 'plas', 'pres', 'skin', 'test', 'mass', 'pedi', 'age', 'class']\n",
        "df = read_csv(filename, header=None, names=names)\n",
        "\n",
        "#removendo a primeira linha que contém os cabeçalho no arquivo\n",
        "df = df.drop(labels=0, axis=0)\n",
        "\n",
        "array = df.values\n",
        "X = array[:,0:8]\n",
        "Y = array[:,8]\n",
        "num_trees = 50\n",
        "seed = 7\n",
        "kfold = StratifiedKFold(n_splits=10, random_state=None)\n",
        "model = GradientBoostingClassifier(n_estimators=num_trees, random_state=seed)\n",
        "results = cross_val_score(model, X, Y, cv=kfold)\n",
        "print(results.mean())"
      ],
      "metadata": {
        "colab": {
          "base_uri": "https://localhost:8080/"
        },
        "id": "uzO10iYtzQ2U",
        "outputId": "0c13b578-197f-49b7-a376-9ab2ff6d671b"
      },
      "execution_count": 8,
      "outputs": [
        {
          "output_type": "stream",
          "name": "stdout",
          "text": [
            "0.7656015037593986\n"
          ]
        }
      ]
    },
    {
      "cell_type": "markdown",
      "source": [
        "#Voting Ensemble\n",
        "\n",
        "A votação é uma das estratégias mais simples de combinar as previsões de vários algoritmos de aprendizado de máquina. Ela funciona primeiro criando dois ou mais modelos independentes do seu conjunto de dados de treinamento. Um classificador de Voting pode ser usado para agrupar seus modelos e calcular a média das previsões dos submodelos quando solicitado a fazer previsões para novos dados. As previsões dos submodelos podem ser ponderadas, mas especificar os pesos para classificadores manualmente ou mesmo heuristicamente é difícil.\n",
        "Métodos mais avançados podem aprender a melhor ponderar as previsões de submodelos, mas isso é chamado de stacking (stacked aggregation) e atualmente não é fornecido no scikit-learn.\n",
        "\n",
        "O código abaixo fornece um exemplo de esambel das previsões de regressão logística, árvores de classificação e regressão e máquinas de vetor de suporte juntas para um problema de classificação.\n"
      ],
      "metadata": {
        "id": "8njcD4JTzhFS"
      }
    },
    {
      "cell_type": "code",
      "source": [
        "# Voting Esemble for Classification\n",
        "from pandas import read_csv\n",
        "from sklearn.model_selection import StratifiedKFold\n",
        "from sklearn.model_selection import cross_val_score\n",
        "from sklearn.ensemble import VotingClassifier\n",
        "from sklearn.linear_model import LogisticRegression\n",
        "from sklearn.tree import DecisionTreeClassifier\n",
        "from sklearn.svm import SVC\n",
        "from sklearn.neighbors import KNeighborsClassifier\n",
        "\n",
        "\n",
        "#filename = 'https://raw.githubusercontent.com/dr-riz/diabetes/master/diabetes.csv'\n",
        "filename = 'https://raw.githubusercontent.com/npradaschnor/Pima-Indians-Diabetes-Dataset/master/diabetes.csv'\n",
        "names = ['preg', 'plas', 'pres', 'skin', 'test', 'mass', 'pedi', 'age', 'class']\n",
        "df = read_csv(filename, header=None, names=names)\n",
        "\n",
        "#removendo a primeira linha que contém os cabeçalho no arquivo\n",
        "df = df.drop(labels=0, axis=0)\n",
        "\n",
        "array = df.values\n",
        "X = array[:,0:8]\n",
        "Y = array[:,8]\n",
        "\n",
        "kfold = StratifiedKFold(n_splits=10, random_state=None)\n",
        "\n",
        "# criando os sub modelos\n",
        "estimators = []\n",
        "\n",
        "# Necessárioespecificar o número máximo de iterações que o algoritmo deve  realizar enquanto busca a solução de maneira iterativa:\n",
        "#O algoritmo do lbgs é um método iterativa para resolver problemas de otimização\n",
        "model1 = LogisticRegression(solver='lbfgs', max_iter=1000)\n",
        "estimators.append(('logistic', model1))\n",
        "\n",
        "model2 = DecisionTreeClassifier()\n",
        "estimators.append(('cart', model2))\n",
        "\n",
        "model3 = SVC()\n",
        "estimators.append(('svm', model3))\n",
        "\n",
        "model4 = KNeighborsClassifier()\n",
        "estimators.append(('knn', model4))\n",
        "\n",
        "model5 = ExtraTreesClassifier()\n",
        "estimators.append(('ET', model5))\n",
        "\n",
        "# criando o modelo ensemble\n",
        "ensemble = VotingClassifier(estimators)\n",
        "\n",
        "results = cross_val_score(ensemble, X, Y, cv=kfold)\n",
        "\n",
        "print(results.mean())"
      ],
      "metadata": {
        "colab": {
          "base_uri": "https://localhost:8080/"
        },
        "id": "FUD18DVL0Zy4",
        "outputId": "e22a6c88-8062-45b2-c3df-b3f3898f1dfd"
      },
      "execution_count": 9,
      "outputs": [
        {
          "output_type": "stream",
          "name": "stdout",
          "text": [
            "0.7539302802460697\n"
          ]
        }
      ]
    }
  ]
}